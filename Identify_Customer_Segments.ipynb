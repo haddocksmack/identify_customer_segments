{
 "cells": [
  {
   "cell_type": "markdown",
   "metadata": {},
   "source": [
    "# Project: Identify Customer Segments\n",
    "\n",
    "In this project, you will apply unsupervised learning techniques to identify segments of the population that form the core customer base for a mail-order sales company in Germany. These segments can then be used to direct marketing campaigns towards audiences that will have the highest expected rate of returns. The data that you will use has been provided by our partners at Bertelsmann Arvato Analytics, and represents a real-life data science task.\n",
    "\n",
    "This notebook will help you complete this task by providing a framework within which you will perform your analysis steps. In each step of the project, you will see some text describing the subtask that you will perform, followed by one or more code cells for you to complete your work. **Feel free to add additional code and markdown cells as you go along so that you can explore everything in precise chunks.** The code cells provided in the base template will outline only the major tasks, and will usually not be enough to cover all of the minor tasks that comprise it.\n",
    "\n",
    "It should be noted that while there will be precise guidelines on how you should handle certain tasks in the project, there will also be places where an exact specification is not provided. **There will be times in the project where you will need to make and justify your own decisions on how to treat the data.** These are places where there may not be only one way to handle the data. In real-life tasks, there may be many valid ways to approach an analysis task. One of the most important things you can do is clearly document your approach so that other scientists can understand the decisions you've made.\n",
    "\n",
    "At the end of most sections, there will be a Markdown cell labeled **Discussion**. In these cells, you will report your findings for the completed section, as well as document the decisions that you made in your approach to each subtask. **Your project will be evaluated not just on the code used to complete the tasks outlined, but also your communication about your observations and conclusions at each stage.**"
   ]
  },
  {
   "cell_type": "markdown",
   "metadata": {},
   "source": [
    "## Table of Contents\n",
    "\n",
    "<ul>\n",
    "<li><a href=\"#load-data\">Step 0: Load the Data</a></li>\n",
    "<li><a href=\"#preprocessing\">Step 1: Preprocessing</a></li>\n",
    "    <ul>\n",
    "        <li><a href=\"#assess-missing\">1.1: Assess Missing Data</a></li>\n",
    "        <li><a href=\"#re-encode\">1.2: Select and Re-Encode Features</a></li>\n",
    "        <li><a href=\"#clean-func\">1.3: Create a Cleaning Function</a></li>\n",
    "    </ul>\n",
    "<li><a href=\"#feat_tran\">Step 2: Feature Transformation</a></li>\n",
    "    <ul>\n",
    "        <li><a href=\"#feat_scale\">2.1: Apply Feature Scaling</a></li>\n",
    "        <li><a href=\"#dim-reduct\">2.2: Perform Dimensionality Reduction</a></li>\n",
    "        <li><a href=\"#int-pc\">2.3: Interpret Principal Components</a></li>\n",
    "    </ul>\n",
    "<li><a href=\"#clustering\">Step 3: Clustering</a></li>\n",
    "    <ul>\n",
    "        <li><a href=\"#gen-pop\">3.1: Apply Clustering to General Population</a></li>\n",
    "        <li><a href=\"#all-steps\">3.2: Apply All Steps to the Customer Data</a></li>\n",
    "        <li><a href=\"#compare-data\">3.3: Compare Customer Data to Demographics Data</a></li>\n",
    "    </ul>\n",
    "</ul>"
   ]
  },
  {
   "cell_type": "code",
   "execution_count": 1,
   "metadata": {},
   "outputs": [
    {
     "data": {
      "text/plain": [
       "'\\nImport note: The classroom currently uses sklearn version 0.19.\\nIf you need to use an imputer, it is available in sklearn.preprocessing.Imputer,\\ninstead of sklearn.impute as in newer versions of sklearn.\\n'"
      ]
     },
     "execution_count": 1,
     "metadata": {},
     "output_type": "execute_result"
    }
   ],
   "source": [
    "# import libraries here; add more as necessary\n",
    "import numpy as np\n",
    "import pandas as pd\n",
    "import matplotlib.pyplot as plt\n",
    "import seaborn as sns\n",
    "# from sklearn.preprocessing import Imputer  ## Uncomment if scikit-learn v 0.19 or prior\n",
    "from sklearn.impute import SimpleImputer     ## Uncomment if scikit-learn v 0.20 or later\n",
    "from sklearn.preprocessing import StandardScaler\n",
    "from sklearn.decomposition import PCA\n",
    "from sklearn.cluster import KMeans\n",
    "\n",
    "#ignore warnings\n",
    "import warnings\n",
    "warnings.filterwarnings('ignore')\n",
    "\n",
    "# magic word for producing visualizations in notebook\n",
    "%matplotlib inline\n",
    "\n",
    "'''\n",
    "Import note: The classroom currently uses sklearn version 0.19.\n",
    "If you need to use an imputer, it is available in sklearn.preprocessing.Imputer,\n",
    "instead of sklearn.impute as in newer versions of sklearn.\n",
    "'''"
   ]
  },
  {
   "cell_type": "markdown",
   "metadata": {},
   "source": [
    "### Step 0: Load the Data <a id='load-data'></a>\n",
    "\n",
    "There are four files associated with this project (not including this one):\n",
    "\n",
    "- `Udacity_AZDIAS_Subset.csv`: Demographics data for the general population of Germany; 891211 persons (rows) x 85 features (columns).\n",
    "- `Udacity_CUSTOMERS_Subset.csv`: Demographics data for customers of a mail-order company; 191652 persons (rows) x 85 features (columns).\n",
    "- `Data_Dictionary.md`: Detailed information file about the features in the provided datasets.\n",
    "- `AZDIAS_Feature_Summary.csv`: Summary of feature attributes for demographics data; 85 features (rows) x 4 columns\n",
    "\n",
    "Each row of the demographics files represents a single person, but also includes information outside of individuals, including information about their household, building, and neighborhood. You will use this information to cluster the general population into groups with similar demographic properties. Then, you will see how the people in the customers dataset fit into those created clusters. The hope here is that certain clusters are over-represented in the customers data, as compared to the general population; those over-represented clusters will be assumed to be part of the core userbase. This information can then be used for further applications, such as targeting for a marketing campaign.\n",
    "\n",
    "To start off with, load in the demographics data for the general population into a pandas DataFrame, and do the same for the feature attributes summary. Note for all of the `.csv` data files in this project: they're semicolon (`;`) delimited, so you'll need an additional argument in your [`read_csv()`](https://pandas.pydata.org/pandas-docs/stable/generated/pandas.read_csv.html) call to read in the data properly. Also, considering the size of the main dataset, it may take some time for it to load completely.\n",
    "\n",
    "Once the dataset is loaded, it's recommended that you take a little bit of time just browsing the general structure of the dataset and feature summary file. You'll be getting deep into the innards of the cleaning in the first major step of the project, so gaining some general familiarity can help you get your bearings."
   ]
  },
  {
   "cell_type": "code",
   "execution_count": 2,
   "metadata": {},
   "outputs": [],
   "source": [
    "# Load in the general demographics data.\n",
    "azdias = pd.read_csv('Udacity_AZDIAS_Subset.csv', delimiter=';')\n",
    "\n",
    "# Load in the feature summary file.\n",
    "feat_info = pd.read_csv('AZDIAS_Feature_Summary.csv', delimiter=';')"
   ]
  },
  {
   "cell_type": "code",
   "execution_count": 3,
   "metadata": {},
   "outputs": [
    {
     "data": {
      "text/html": [
       "<div>\n",
       "<style scoped>\n",
       "    .dataframe tbody tr th:only-of-type {\n",
       "        vertical-align: middle;\n",
       "    }\n",
       "\n",
       "    .dataframe tbody tr th {\n",
       "        vertical-align: top;\n",
       "    }\n",
       "\n",
       "    .dataframe thead th {\n",
       "        text-align: right;\n",
       "    }\n",
       "</style>\n",
       "<table border=\"1\" class=\"dataframe\">\n",
       "  <thead>\n",
       "    <tr style=\"text-align: right;\">\n",
       "      <th></th>\n",
       "      <th>AGER_TYP</th>\n",
       "      <th>ALTERSKATEGORIE_GROB</th>\n",
       "      <th>ANREDE_KZ</th>\n",
       "      <th>CJT_GESAMTTYP</th>\n",
       "      <th>FINANZ_MINIMALIST</th>\n",
       "      <th>FINANZ_SPARER</th>\n",
       "      <th>FINANZ_VORSORGER</th>\n",
       "      <th>FINANZ_ANLEGER</th>\n",
       "      <th>FINANZ_UNAUFFAELLIGER</th>\n",
       "      <th>FINANZ_HAUSBAUER</th>\n",
       "      <th>...</th>\n",
       "      <th>PLZ8_ANTG1</th>\n",
       "      <th>PLZ8_ANTG2</th>\n",
       "      <th>PLZ8_ANTG3</th>\n",
       "      <th>PLZ8_ANTG4</th>\n",
       "      <th>PLZ8_BAUMAX</th>\n",
       "      <th>PLZ8_HHZ</th>\n",
       "      <th>PLZ8_GBZ</th>\n",
       "      <th>ARBEIT</th>\n",
       "      <th>ORTSGR_KLS9</th>\n",
       "      <th>RELAT_AB</th>\n",
       "    </tr>\n",
       "  </thead>\n",
       "  <tbody>\n",
       "    <tr>\n",
       "      <th>0</th>\n",
       "      <td>-1</td>\n",
       "      <td>2</td>\n",
       "      <td>1</td>\n",
       "      <td>2.0</td>\n",
       "      <td>3</td>\n",
       "      <td>4</td>\n",
       "      <td>3</td>\n",
       "      <td>5</td>\n",
       "      <td>5</td>\n",
       "      <td>3</td>\n",
       "      <td>...</td>\n",
       "      <td>NaN</td>\n",
       "      <td>NaN</td>\n",
       "      <td>NaN</td>\n",
       "      <td>NaN</td>\n",
       "      <td>NaN</td>\n",
       "      <td>NaN</td>\n",
       "      <td>NaN</td>\n",
       "      <td>NaN</td>\n",
       "      <td>NaN</td>\n",
       "      <td>NaN</td>\n",
       "    </tr>\n",
       "    <tr>\n",
       "      <th>1</th>\n",
       "      <td>-1</td>\n",
       "      <td>1</td>\n",
       "      <td>2</td>\n",
       "      <td>5.0</td>\n",
       "      <td>1</td>\n",
       "      <td>5</td>\n",
       "      <td>2</td>\n",
       "      <td>5</td>\n",
       "      <td>4</td>\n",
       "      <td>5</td>\n",
       "      <td>...</td>\n",
       "      <td>2.0</td>\n",
       "      <td>3.0</td>\n",
       "      <td>2.0</td>\n",
       "      <td>1.0</td>\n",
       "      <td>1.0</td>\n",
       "      <td>5.0</td>\n",
       "      <td>4.0</td>\n",
       "      <td>3.0</td>\n",
       "      <td>5.0</td>\n",
       "      <td>4.0</td>\n",
       "    </tr>\n",
       "    <tr>\n",
       "      <th>2</th>\n",
       "      <td>-1</td>\n",
       "      <td>3</td>\n",
       "      <td>2</td>\n",
       "      <td>3.0</td>\n",
       "      <td>1</td>\n",
       "      <td>4</td>\n",
       "      <td>1</td>\n",
       "      <td>2</td>\n",
       "      <td>3</td>\n",
       "      <td>5</td>\n",
       "      <td>...</td>\n",
       "      <td>3.0</td>\n",
       "      <td>3.0</td>\n",
       "      <td>1.0</td>\n",
       "      <td>0.0</td>\n",
       "      <td>1.0</td>\n",
       "      <td>4.0</td>\n",
       "      <td>4.0</td>\n",
       "      <td>3.0</td>\n",
       "      <td>5.0</td>\n",
       "      <td>2.0</td>\n",
       "    </tr>\n",
       "    <tr>\n",
       "      <th>3</th>\n",
       "      <td>2</td>\n",
       "      <td>4</td>\n",
       "      <td>2</td>\n",
       "      <td>2.0</td>\n",
       "      <td>4</td>\n",
       "      <td>2</td>\n",
       "      <td>5</td>\n",
       "      <td>2</td>\n",
       "      <td>1</td>\n",
       "      <td>2</td>\n",
       "      <td>...</td>\n",
       "      <td>2.0</td>\n",
       "      <td>2.0</td>\n",
       "      <td>2.0</td>\n",
       "      <td>0.0</td>\n",
       "      <td>1.0</td>\n",
       "      <td>3.0</td>\n",
       "      <td>4.0</td>\n",
       "      <td>2.0</td>\n",
       "      <td>3.0</td>\n",
       "      <td>3.0</td>\n",
       "    </tr>\n",
       "    <tr>\n",
       "      <th>4</th>\n",
       "      <td>-1</td>\n",
       "      <td>3</td>\n",
       "      <td>1</td>\n",
       "      <td>5.0</td>\n",
       "      <td>4</td>\n",
       "      <td>3</td>\n",
       "      <td>4</td>\n",
       "      <td>1</td>\n",
       "      <td>3</td>\n",
       "      <td>2</td>\n",
       "      <td>...</td>\n",
       "      <td>2.0</td>\n",
       "      <td>4.0</td>\n",
       "      <td>2.0</td>\n",
       "      <td>1.0</td>\n",
       "      <td>2.0</td>\n",
       "      <td>3.0</td>\n",
       "      <td>3.0</td>\n",
       "      <td>4.0</td>\n",
       "      <td>6.0</td>\n",
       "      <td>5.0</td>\n",
       "    </tr>\n",
       "  </tbody>\n",
       "</table>\n",
       "<p>5 rows × 85 columns</p>\n",
       "</div>"
      ],
      "text/plain": [
       "   AGER_TYP  ALTERSKATEGORIE_GROB  ANREDE_KZ  CJT_GESAMTTYP  \\\n",
       "0        -1                     2          1            2.0   \n",
       "1        -1                     1          2            5.0   \n",
       "2        -1                     3          2            3.0   \n",
       "3         2                     4          2            2.0   \n",
       "4        -1                     3          1            5.0   \n",
       "\n",
       "   FINANZ_MINIMALIST  FINANZ_SPARER  FINANZ_VORSORGER  FINANZ_ANLEGER  \\\n",
       "0                  3              4                 3               5   \n",
       "1                  1              5                 2               5   \n",
       "2                  1              4                 1               2   \n",
       "3                  4              2                 5               2   \n",
       "4                  4              3                 4               1   \n",
       "\n",
       "   FINANZ_UNAUFFAELLIGER  FINANZ_HAUSBAUER  ...  PLZ8_ANTG1  PLZ8_ANTG2  \\\n",
       "0                      5                 3  ...         NaN         NaN   \n",
       "1                      4                 5  ...         2.0         3.0   \n",
       "2                      3                 5  ...         3.0         3.0   \n",
       "3                      1                 2  ...         2.0         2.0   \n",
       "4                      3                 2  ...         2.0         4.0   \n",
       "\n",
       "   PLZ8_ANTG3  PLZ8_ANTG4  PLZ8_BAUMAX  PLZ8_HHZ  PLZ8_GBZ  ARBEIT  \\\n",
       "0         NaN         NaN          NaN       NaN       NaN     NaN   \n",
       "1         2.0         1.0          1.0       5.0       4.0     3.0   \n",
       "2         1.0         0.0          1.0       4.0       4.0     3.0   \n",
       "3         2.0         0.0          1.0       3.0       4.0     2.0   \n",
       "4         2.0         1.0          2.0       3.0       3.0     4.0   \n",
       "\n",
       "   ORTSGR_KLS9  RELAT_AB  \n",
       "0          NaN       NaN  \n",
       "1          5.0       4.0  \n",
       "2          5.0       2.0  \n",
       "3          3.0       3.0  \n",
       "4          6.0       5.0  \n",
       "\n",
       "[5 rows x 85 columns]"
      ]
     },
     "execution_count": 3,
     "metadata": {},
     "output_type": "execute_result"
    }
   ],
   "source": [
    "# Check the structure of the data after it's loaded (e.g. print the number of\n",
    "# rows and columns, print the first few rows).\n",
    "azdias.head()"
   ]
  },
  {
   "cell_type": "code",
   "execution_count": 4,
   "metadata": {},
   "outputs": [
    {
     "data": {
      "text/plain": [
       "(891221, 85)"
      ]
     },
     "execution_count": 4,
     "metadata": {},
     "output_type": "execute_result"
    }
   ],
   "source": [
    "azdias.shape"
   ]
  },
  {
   "cell_type": "code",
   "execution_count": 5,
   "metadata": {
    "scrolled": true
   },
   "outputs": [
    {
     "name": "stdout",
     "output_type": "stream",
     "text": [
      "<class 'pandas.core.frame.DataFrame'>\n",
      "RangeIndex: 891221 entries, 0 to 891220\n",
      "Data columns (total 85 columns):\n",
      " #   Column                 Non-Null Count   Dtype  \n",
      "---  ------                 --------------   -----  \n",
      " 0   AGER_TYP               891221 non-null  int64  \n",
      " 1   ALTERSKATEGORIE_GROB   891221 non-null  int64  \n",
      " 2   ANREDE_KZ              891221 non-null  int64  \n",
      " 3   CJT_GESAMTTYP          886367 non-null  float64\n",
      " 4   FINANZ_MINIMALIST      891221 non-null  int64  \n",
      " 5   FINANZ_SPARER          891221 non-null  int64  \n",
      " 6   FINANZ_VORSORGER       891221 non-null  int64  \n",
      " 7   FINANZ_ANLEGER         891221 non-null  int64  \n",
      " 8   FINANZ_UNAUFFAELLIGER  891221 non-null  int64  \n",
      " 9   FINANZ_HAUSBAUER       891221 non-null  int64  \n",
      " 10  FINANZTYP              891221 non-null  int64  \n",
      " 11  GEBURTSJAHR            891221 non-null  int64  \n",
      " 12  GFK_URLAUBERTYP        886367 non-null  float64\n",
      " 13  GREEN_AVANTGARDE       891221 non-null  int64  \n",
      " 14  HEALTH_TYP             891221 non-null  int64  \n",
      " 15  LP_LEBENSPHASE_FEIN    886367 non-null  float64\n",
      " 16  LP_LEBENSPHASE_GROB    886367 non-null  float64\n",
      " 17  LP_FAMILIE_FEIN        886367 non-null  float64\n",
      " 18  LP_FAMILIE_GROB        886367 non-null  float64\n",
      " 19  LP_STATUS_FEIN         886367 non-null  float64\n",
      " 20  LP_STATUS_GROB         886367 non-null  float64\n",
      " 21  NATIONALITAET_KZ       891221 non-null  int64  \n",
      " 22  PRAEGENDE_JUGENDJAHRE  891221 non-null  int64  \n",
      " 23  RETOURTYP_BK_S         886367 non-null  float64\n",
      " 24  SEMIO_SOZ              891221 non-null  int64  \n",
      " 25  SEMIO_FAM              891221 non-null  int64  \n",
      " 26  SEMIO_REL              891221 non-null  int64  \n",
      " 27  SEMIO_MAT              891221 non-null  int64  \n",
      " 28  SEMIO_VERT             891221 non-null  int64  \n",
      " 29  SEMIO_LUST             891221 non-null  int64  \n",
      " 30  SEMIO_ERL              891221 non-null  int64  \n",
      " 31  SEMIO_KULT             891221 non-null  int64  \n",
      " 32  SEMIO_RAT              891221 non-null  int64  \n",
      " 33  SEMIO_KRIT             891221 non-null  int64  \n",
      " 34  SEMIO_DOM              891221 non-null  int64  \n",
      " 35  SEMIO_KAEM             891221 non-null  int64  \n",
      " 36  SEMIO_PFLICHT          891221 non-null  int64  \n",
      " 37  SEMIO_TRADV            891221 non-null  int64  \n",
      " 38  SHOPPER_TYP            891221 non-null  int64  \n",
      " 39  SOHO_KZ                817722 non-null  float64\n",
      " 40  TITEL_KZ               817722 non-null  float64\n",
      " 41  VERS_TYP               891221 non-null  int64  \n",
      " 42  ZABEOTYP               891221 non-null  int64  \n",
      " 43  ALTER_HH               817722 non-null  float64\n",
      " 44  ANZ_PERSONEN           817722 non-null  float64\n",
      " 45  ANZ_TITEL              817722 non-null  float64\n",
      " 46  HH_EINKOMMEN_SCORE     872873 non-null  float64\n",
      " 47  KK_KUNDENTYP           306609 non-null  float64\n",
      " 48  W_KEIT_KIND_HH         783619 non-null  float64\n",
      " 49  WOHNDAUER_2008         817722 non-null  float64\n",
      " 50  ANZ_HAUSHALTE_AKTIV    798073 non-null  float64\n",
      " 51  ANZ_HH_TITEL           794213 non-null  float64\n",
      " 52  GEBAEUDETYP            798073 non-null  float64\n",
      " 53  KONSUMNAEHE            817252 non-null  float64\n",
      " 54  MIN_GEBAEUDEJAHR       798073 non-null  float64\n",
      " 55  OST_WEST_KZ            798073 non-null  object \n",
      " 56  WOHNLAGE               798073 non-null  float64\n",
      " 57  CAMEO_DEUG_2015        792242 non-null  object \n",
      " 58  CAMEO_DEU_2015         792242 non-null  object \n",
      " 59  CAMEO_INTL_2015        792242 non-null  object \n",
      " 60  KBA05_ANTG1            757897 non-null  float64\n",
      " 61  KBA05_ANTG2            757897 non-null  float64\n",
      " 62  KBA05_ANTG3            757897 non-null  float64\n",
      " 63  KBA05_ANTG4            757897 non-null  float64\n",
      " 64  KBA05_BAUMAX           757897 non-null  float64\n",
      " 65  KBA05_GBZ              757897 non-null  float64\n",
      " 66  BALLRAUM               797481 non-null  float64\n",
      " 67  EWDICHTE               797481 non-null  float64\n",
      " 68  INNENSTADT             797481 non-null  float64\n",
      " 69  GEBAEUDETYP_RASTER     798066 non-null  float64\n",
      " 70  KKK                    770025 non-null  float64\n",
      " 71  MOBI_REGIO             757897 non-null  float64\n",
      " 72  ONLINE_AFFINITAET      886367 non-null  float64\n",
      " 73  REGIOTYP               770025 non-null  float64\n",
      " 74  KBA13_ANZAHL_PKW       785421 non-null  float64\n",
      " 75  PLZ8_ANTG1             774706 non-null  float64\n",
      " 76  PLZ8_ANTG2             774706 non-null  float64\n",
      " 77  PLZ8_ANTG3             774706 non-null  float64\n",
      " 78  PLZ8_ANTG4             774706 non-null  float64\n",
      " 79  PLZ8_BAUMAX            774706 non-null  float64\n",
      " 80  PLZ8_HHZ               774706 non-null  float64\n",
      " 81  PLZ8_GBZ               774706 non-null  float64\n",
      " 82  ARBEIT                 794005 non-null  float64\n",
      " 83  ORTSGR_KLS9            794005 non-null  float64\n",
      " 84  RELAT_AB               794005 non-null  float64\n",
      "dtypes: float64(49), int64(32), object(4)\n",
      "memory usage: 578.0+ MB\n"
     ]
    }
   ],
   "source": [
    "azdias.info()"
   ]
  },
  {
   "cell_type": "code",
   "execution_count": 6,
   "metadata": {},
   "outputs": [
    {
     "data": {
      "text/html": [
       "<div>\n",
       "<style scoped>\n",
       "    .dataframe tbody tr th:only-of-type {\n",
       "        vertical-align: middle;\n",
       "    }\n",
       "\n",
       "    .dataframe tbody tr th {\n",
       "        vertical-align: top;\n",
       "    }\n",
       "\n",
       "    .dataframe thead th {\n",
       "        text-align: right;\n",
       "    }\n",
       "</style>\n",
       "<table border=\"1\" class=\"dataframe\">\n",
       "  <thead>\n",
       "    <tr style=\"text-align: right;\">\n",
       "      <th></th>\n",
       "      <th>AGER_TYP</th>\n",
       "      <th>ALTERSKATEGORIE_GROB</th>\n",
       "      <th>ANREDE_KZ</th>\n",
       "      <th>CJT_GESAMTTYP</th>\n",
       "      <th>FINANZ_MINIMALIST</th>\n",
       "      <th>FINANZ_SPARER</th>\n",
       "      <th>FINANZ_VORSORGER</th>\n",
       "      <th>FINANZ_ANLEGER</th>\n",
       "      <th>FINANZ_UNAUFFAELLIGER</th>\n",
       "      <th>FINANZ_HAUSBAUER</th>\n",
       "      <th>...</th>\n",
       "      <th>PLZ8_ANTG1</th>\n",
       "      <th>PLZ8_ANTG2</th>\n",
       "      <th>PLZ8_ANTG3</th>\n",
       "      <th>PLZ8_ANTG4</th>\n",
       "      <th>PLZ8_BAUMAX</th>\n",
       "      <th>PLZ8_HHZ</th>\n",
       "      <th>PLZ8_GBZ</th>\n",
       "      <th>ARBEIT</th>\n",
       "      <th>ORTSGR_KLS9</th>\n",
       "      <th>RELAT_AB</th>\n",
       "    </tr>\n",
       "  </thead>\n",
       "  <tbody>\n",
       "    <tr>\n",
       "      <th>count</th>\n",
       "      <td>891221.000000</td>\n",
       "      <td>891221.000000</td>\n",
       "      <td>891221.000000</td>\n",
       "      <td>886367.000000</td>\n",
       "      <td>891221.000000</td>\n",
       "      <td>891221.000000</td>\n",
       "      <td>891221.000000</td>\n",
       "      <td>891221.000000</td>\n",
       "      <td>891221.000000</td>\n",
       "      <td>891221.000000</td>\n",
       "      <td>...</td>\n",
       "      <td>774706.000000</td>\n",
       "      <td>774706.000000</td>\n",
       "      <td>774706.000000</td>\n",
       "      <td>774706.000000</td>\n",
       "      <td>774706.000000</td>\n",
       "      <td>774706.000000</td>\n",
       "      <td>774706.000000</td>\n",
       "      <td>794005.000000</td>\n",
       "      <td>794005.000000</td>\n",
       "      <td>794005.00000</td>\n",
       "    </tr>\n",
       "    <tr>\n",
       "      <th>mean</th>\n",
       "      <td>-0.358435</td>\n",
       "      <td>2.777398</td>\n",
       "      <td>1.522098</td>\n",
       "      <td>3.632838</td>\n",
       "      <td>3.074528</td>\n",
       "      <td>2.821039</td>\n",
       "      <td>3.401106</td>\n",
       "      <td>3.033328</td>\n",
       "      <td>2.874167</td>\n",
       "      <td>3.075121</td>\n",
       "      <td>...</td>\n",
       "      <td>2.253330</td>\n",
       "      <td>2.801858</td>\n",
       "      <td>1.595426</td>\n",
       "      <td>0.699166</td>\n",
       "      <td>1.943913</td>\n",
       "      <td>3.612821</td>\n",
       "      <td>3.381087</td>\n",
       "      <td>3.167854</td>\n",
       "      <td>5.293002</td>\n",
       "      <td>3.07222</td>\n",
       "    </tr>\n",
       "    <tr>\n",
       "      <th>std</th>\n",
       "      <td>1.198724</td>\n",
       "      <td>1.068775</td>\n",
       "      <td>0.499512</td>\n",
       "      <td>1.595021</td>\n",
       "      <td>1.321055</td>\n",
       "      <td>1.464749</td>\n",
       "      <td>1.322134</td>\n",
       "      <td>1.529603</td>\n",
       "      <td>1.486731</td>\n",
       "      <td>1.353248</td>\n",
       "      <td>...</td>\n",
       "      <td>0.972008</td>\n",
       "      <td>0.920309</td>\n",
       "      <td>0.986736</td>\n",
       "      <td>0.727137</td>\n",
       "      <td>1.459654</td>\n",
       "      <td>0.973967</td>\n",
       "      <td>1.111598</td>\n",
       "      <td>1.002376</td>\n",
       "      <td>2.303739</td>\n",
       "      <td>1.36298</td>\n",
       "    </tr>\n",
       "    <tr>\n",
       "      <th>min</th>\n",
       "      <td>-1.000000</td>\n",
       "      <td>1.000000</td>\n",
       "      <td>1.000000</td>\n",
       "      <td>1.000000</td>\n",
       "      <td>1.000000</td>\n",
       "      <td>1.000000</td>\n",
       "      <td>1.000000</td>\n",
       "      <td>1.000000</td>\n",
       "      <td>1.000000</td>\n",
       "      <td>1.000000</td>\n",
       "      <td>...</td>\n",
       "      <td>0.000000</td>\n",
       "      <td>0.000000</td>\n",
       "      <td>0.000000</td>\n",
       "      <td>0.000000</td>\n",
       "      <td>1.000000</td>\n",
       "      <td>1.000000</td>\n",
       "      <td>1.000000</td>\n",
       "      <td>1.000000</td>\n",
       "      <td>0.000000</td>\n",
       "      <td>1.00000</td>\n",
       "    </tr>\n",
       "    <tr>\n",
       "      <th>25%</th>\n",
       "      <td>-1.000000</td>\n",
       "      <td>2.000000</td>\n",
       "      <td>1.000000</td>\n",
       "      <td>2.000000</td>\n",
       "      <td>2.000000</td>\n",
       "      <td>1.000000</td>\n",
       "      <td>3.000000</td>\n",
       "      <td>2.000000</td>\n",
       "      <td>2.000000</td>\n",
       "      <td>2.000000</td>\n",
       "      <td>...</td>\n",
       "      <td>1.000000</td>\n",
       "      <td>2.000000</td>\n",
       "      <td>1.000000</td>\n",
       "      <td>0.000000</td>\n",
       "      <td>1.000000</td>\n",
       "      <td>3.000000</td>\n",
       "      <td>3.000000</td>\n",
       "      <td>3.000000</td>\n",
       "      <td>4.000000</td>\n",
       "      <td>2.00000</td>\n",
       "    </tr>\n",
       "    <tr>\n",
       "      <th>50%</th>\n",
       "      <td>-1.000000</td>\n",
       "      <td>3.000000</td>\n",
       "      <td>2.000000</td>\n",
       "      <td>4.000000</td>\n",
       "      <td>3.000000</td>\n",
       "      <td>3.000000</td>\n",
       "      <td>3.000000</td>\n",
       "      <td>3.000000</td>\n",
       "      <td>3.000000</td>\n",
       "      <td>3.000000</td>\n",
       "      <td>...</td>\n",
       "      <td>2.000000</td>\n",
       "      <td>3.000000</td>\n",
       "      <td>2.000000</td>\n",
       "      <td>1.000000</td>\n",
       "      <td>1.000000</td>\n",
       "      <td>4.000000</td>\n",
       "      <td>3.000000</td>\n",
       "      <td>3.000000</td>\n",
       "      <td>5.000000</td>\n",
       "      <td>3.00000</td>\n",
       "    </tr>\n",
       "    <tr>\n",
       "      <th>75%</th>\n",
       "      <td>-1.000000</td>\n",
       "      <td>4.000000</td>\n",
       "      <td>2.000000</td>\n",
       "      <td>5.000000</td>\n",
       "      <td>4.000000</td>\n",
       "      <td>4.000000</td>\n",
       "      <td>5.000000</td>\n",
       "      <td>5.000000</td>\n",
       "      <td>4.000000</td>\n",
       "      <td>4.000000</td>\n",
       "      <td>...</td>\n",
       "      <td>3.000000</td>\n",
       "      <td>3.000000</td>\n",
       "      <td>2.000000</td>\n",
       "      <td>1.000000</td>\n",
       "      <td>3.000000</td>\n",
       "      <td>4.000000</td>\n",
       "      <td>4.000000</td>\n",
       "      <td>4.000000</td>\n",
       "      <td>7.000000</td>\n",
       "      <td>4.00000</td>\n",
       "    </tr>\n",
       "    <tr>\n",
       "      <th>max</th>\n",
       "      <td>3.000000</td>\n",
       "      <td>9.000000</td>\n",
       "      <td>2.000000</td>\n",
       "      <td>6.000000</td>\n",
       "      <td>5.000000</td>\n",
       "      <td>5.000000</td>\n",
       "      <td>5.000000</td>\n",
       "      <td>5.000000</td>\n",
       "      <td>5.000000</td>\n",
       "      <td>5.000000</td>\n",
       "      <td>...</td>\n",
       "      <td>4.000000</td>\n",
       "      <td>4.000000</td>\n",
       "      <td>3.000000</td>\n",
       "      <td>2.000000</td>\n",
       "      <td>5.000000</td>\n",
       "      <td>5.000000</td>\n",
       "      <td>5.000000</td>\n",
       "      <td>9.000000</td>\n",
       "      <td>9.000000</td>\n",
       "      <td>9.00000</td>\n",
       "    </tr>\n",
       "  </tbody>\n",
       "</table>\n",
       "<p>8 rows × 81 columns</p>\n",
       "</div>"
      ],
      "text/plain": [
       "            AGER_TYP  ALTERSKATEGORIE_GROB      ANREDE_KZ  CJT_GESAMTTYP  \\\n",
       "count  891221.000000         891221.000000  891221.000000  886367.000000   \n",
       "mean       -0.358435              2.777398       1.522098       3.632838   \n",
       "std         1.198724              1.068775       0.499512       1.595021   \n",
       "min        -1.000000              1.000000       1.000000       1.000000   \n",
       "25%        -1.000000              2.000000       1.000000       2.000000   \n",
       "50%        -1.000000              3.000000       2.000000       4.000000   \n",
       "75%        -1.000000              4.000000       2.000000       5.000000   \n",
       "max         3.000000              9.000000       2.000000       6.000000   \n",
       "\n",
       "       FINANZ_MINIMALIST  FINANZ_SPARER  FINANZ_VORSORGER  FINANZ_ANLEGER  \\\n",
       "count      891221.000000  891221.000000     891221.000000   891221.000000   \n",
       "mean            3.074528       2.821039          3.401106        3.033328   \n",
       "std             1.321055       1.464749          1.322134        1.529603   \n",
       "min             1.000000       1.000000          1.000000        1.000000   \n",
       "25%             2.000000       1.000000          3.000000        2.000000   \n",
       "50%             3.000000       3.000000          3.000000        3.000000   \n",
       "75%             4.000000       4.000000          5.000000        5.000000   \n",
       "max             5.000000       5.000000          5.000000        5.000000   \n",
       "\n",
       "       FINANZ_UNAUFFAELLIGER  FINANZ_HAUSBAUER  ...     PLZ8_ANTG1  \\\n",
       "count          891221.000000     891221.000000  ...  774706.000000   \n",
       "mean                2.874167          3.075121  ...       2.253330   \n",
       "std                 1.486731          1.353248  ...       0.972008   \n",
       "min                 1.000000          1.000000  ...       0.000000   \n",
       "25%                 2.000000          2.000000  ...       1.000000   \n",
       "50%                 3.000000          3.000000  ...       2.000000   \n",
       "75%                 4.000000          4.000000  ...       3.000000   \n",
       "max                 5.000000          5.000000  ...       4.000000   \n",
       "\n",
       "          PLZ8_ANTG2     PLZ8_ANTG3     PLZ8_ANTG4    PLZ8_BAUMAX  \\\n",
       "count  774706.000000  774706.000000  774706.000000  774706.000000   \n",
       "mean        2.801858       1.595426       0.699166       1.943913   \n",
       "std         0.920309       0.986736       0.727137       1.459654   \n",
       "min         0.000000       0.000000       0.000000       1.000000   \n",
       "25%         2.000000       1.000000       0.000000       1.000000   \n",
       "50%         3.000000       2.000000       1.000000       1.000000   \n",
       "75%         3.000000       2.000000       1.000000       3.000000   \n",
       "max         4.000000       3.000000       2.000000       5.000000   \n",
       "\n",
       "            PLZ8_HHZ       PLZ8_GBZ         ARBEIT    ORTSGR_KLS9  \\\n",
       "count  774706.000000  774706.000000  794005.000000  794005.000000   \n",
       "mean        3.612821       3.381087       3.167854       5.293002   \n",
       "std         0.973967       1.111598       1.002376       2.303739   \n",
       "min         1.000000       1.000000       1.000000       0.000000   \n",
       "25%         3.000000       3.000000       3.000000       4.000000   \n",
       "50%         4.000000       3.000000       3.000000       5.000000   \n",
       "75%         4.000000       4.000000       4.000000       7.000000   \n",
       "max         5.000000       5.000000       9.000000       9.000000   \n",
       "\n",
       "           RELAT_AB  \n",
       "count  794005.00000  \n",
       "mean        3.07222  \n",
       "std         1.36298  \n",
       "min         1.00000  \n",
       "25%         2.00000  \n",
       "50%         3.00000  \n",
       "75%         4.00000  \n",
       "max         9.00000  \n",
       "\n",
       "[8 rows x 81 columns]"
      ]
     },
     "execution_count": 6,
     "metadata": {},
     "output_type": "execute_result"
    }
   ],
   "source": [
    "azdias.describe()"
   ]
  },
  {
   "cell_type": "code",
   "execution_count": 7,
   "metadata": {},
   "outputs": [
    {
     "data": {
      "text/html": [
       "<div>\n",
       "<style scoped>\n",
       "    .dataframe tbody tr th:only-of-type {\n",
       "        vertical-align: middle;\n",
       "    }\n",
       "\n",
       "    .dataframe tbody tr th {\n",
       "        vertical-align: top;\n",
       "    }\n",
       "\n",
       "    .dataframe thead th {\n",
       "        text-align: right;\n",
       "    }\n",
       "</style>\n",
       "<table border=\"1\" class=\"dataframe\">\n",
       "  <thead>\n",
       "    <tr style=\"text-align: right;\">\n",
       "      <th></th>\n",
       "      <th>OST_WEST_KZ</th>\n",
       "      <th>CAMEO_DEUG_2015</th>\n",
       "      <th>CAMEO_DEU_2015</th>\n",
       "      <th>CAMEO_INTL_2015</th>\n",
       "    </tr>\n",
       "  </thead>\n",
       "  <tbody>\n",
       "    <tr>\n",
       "      <th>0</th>\n",
       "      <td>NaN</td>\n",
       "      <td>NaN</td>\n",
       "      <td>NaN</td>\n",
       "      <td>NaN</td>\n",
       "    </tr>\n",
       "    <tr>\n",
       "      <th>1</th>\n",
       "      <td>W</td>\n",
       "      <td>8</td>\n",
       "      <td>8A</td>\n",
       "      <td>51</td>\n",
       "    </tr>\n",
       "    <tr>\n",
       "      <th>2</th>\n",
       "      <td>W</td>\n",
       "      <td>4</td>\n",
       "      <td>4C</td>\n",
       "      <td>24</td>\n",
       "    </tr>\n",
       "    <tr>\n",
       "      <th>3</th>\n",
       "      <td>W</td>\n",
       "      <td>2</td>\n",
       "      <td>2A</td>\n",
       "      <td>12</td>\n",
       "    </tr>\n",
       "    <tr>\n",
       "      <th>4</th>\n",
       "      <td>W</td>\n",
       "      <td>6</td>\n",
       "      <td>6B</td>\n",
       "      <td>43</td>\n",
       "    </tr>\n",
       "  </tbody>\n",
       "</table>\n",
       "</div>"
      ],
      "text/plain": [
       "  OST_WEST_KZ CAMEO_DEUG_2015 CAMEO_DEU_2015 CAMEO_INTL_2015\n",
       "0         NaN             NaN            NaN             NaN\n",
       "1           W               8             8A              51\n",
       "2           W               4             4C              24\n",
       "3           W               2             2A              12\n",
       "4           W               6             6B              43"
      ]
     },
     "execution_count": 7,
     "metadata": {},
     "output_type": "execute_result"
    }
   ],
   "source": [
    "# look at the string object columns\n",
    "azdias[['OST_WEST_KZ', 'CAMEO_DEUG_2015', 'CAMEO_DEU_2015', 'CAMEO_INTL_2015']].head()"
   ]
  },
  {
   "cell_type": "markdown",
   "metadata": {},
   "source": [
    "These columns encode the data with alpha-numeric values. There are a couple columns which have values that aren't immediately apparent why they are alpha-numeric. Below shows the values used in these columns:"
   ]
  },
  {
   "cell_type": "code",
   "execution_count": 8,
   "metadata": {},
   "outputs": [
    {
     "data": {
      "text/plain": [
       "array([nan, '8', '4', '2', '6', '1', '9', '5', '7', '3', 'X'],\n",
       "      dtype=object)"
      ]
     },
     "execution_count": 8,
     "metadata": {},
     "output_type": "execute_result"
    }
   ],
   "source": [
    "azdias['CAMEO_DEUG_2015'].unique()"
   ]
  },
  {
   "cell_type": "code",
   "execution_count": 9,
   "metadata": {},
   "outputs": [
    {
     "data": {
      "text/plain": [
       "array([nan, '51', '24', '12', '43', '54', '22', '14', '13', '15', '33',\n",
       "       '41', '34', '55', '25', '23', '31', '52', '35', '45', '44', '32',\n",
       "       'XX'], dtype=object)"
      ]
     },
     "execution_count": 9,
     "metadata": {},
     "output_type": "execute_result"
    }
   ],
   "source": [
    "azdias['CAMEO_INTL_2015'].unique()"
   ]
  },
  {
   "cell_type": "markdown",
   "metadata": {},
   "source": [
    "These columns use `\"X\"` or `\"XX\"` for some entries."
   ]
  },
  {
   "cell_type": "code",
   "execution_count": 10,
   "metadata": {},
   "outputs": [
    {
     "data": {
      "text/html": [
       "<div>\n",
       "<style scoped>\n",
       "    .dataframe tbody tr th:only-of-type {\n",
       "        vertical-align: middle;\n",
       "    }\n",
       "\n",
       "    .dataframe tbody tr th {\n",
       "        vertical-align: top;\n",
       "    }\n",
       "\n",
       "    .dataframe thead th {\n",
       "        text-align: right;\n",
       "    }\n",
       "</style>\n",
       "<table border=\"1\" class=\"dataframe\">\n",
       "  <thead>\n",
       "    <tr style=\"text-align: right;\">\n",
       "      <th></th>\n",
       "      <th>attribute</th>\n",
       "      <th>information_level</th>\n",
       "      <th>type</th>\n",
       "      <th>missing_or_unknown</th>\n",
       "    </tr>\n",
       "  </thead>\n",
       "  <tbody>\n",
       "    <tr>\n",
       "      <th>0</th>\n",
       "      <td>AGER_TYP</td>\n",
       "      <td>person</td>\n",
       "      <td>categorical</td>\n",
       "      <td>[-1,0]</td>\n",
       "    </tr>\n",
       "    <tr>\n",
       "      <th>1</th>\n",
       "      <td>ALTERSKATEGORIE_GROB</td>\n",
       "      <td>person</td>\n",
       "      <td>ordinal</td>\n",
       "      <td>[-1,0,9]</td>\n",
       "    </tr>\n",
       "    <tr>\n",
       "      <th>2</th>\n",
       "      <td>ANREDE_KZ</td>\n",
       "      <td>person</td>\n",
       "      <td>categorical</td>\n",
       "      <td>[-1,0]</td>\n",
       "    </tr>\n",
       "    <tr>\n",
       "      <th>3</th>\n",
       "      <td>CJT_GESAMTTYP</td>\n",
       "      <td>person</td>\n",
       "      <td>categorical</td>\n",
       "      <td>[0]</td>\n",
       "    </tr>\n",
       "    <tr>\n",
       "      <th>4</th>\n",
       "      <td>FINANZ_MINIMALIST</td>\n",
       "      <td>person</td>\n",
       "      <td>ordinal</td>\n",
       "      <td>[-1]</td>\n",
       "    </tr>\n",
       "  </tbody>\n",
       "</table>\n",
       "</div>"
      ],
      "text/plain": [
       "              attribute information_level         type missing_or_unknown\n",
       "0              AGER_TYP            person  categorical             [-1,0]\n",
       "1  ALTERSKATEGORIE_GROB            person      ordinal           [-1,0,9]\n",
       "2             ANREDE_KZ            person  categorical             [-1,0]\n",
       "3         CJT_GESAMTTYP            person  categorical                [0]\n",
       "4     FINANZ_MINIMALIST            person      ordinal               [-1]"
      ]
     },
     "execution_count": 10,
     "metadata": {},
     "output_type": "execute_result"
    }
   ],
   "source": [
    "feat_info.head()"
   ]
  },
  {
   "cell_type": "code",
   "execution_count": 11,
   "metadata": {
    "scrolled": true
   },
   "outputs": [
    {
     "name": "stdout",
     "output_type": "stream",
     "text": [
      "<class 'pandas.core.frame.DataFrame'>\n",
      "RangeIndex: 85 entries, 0 to 84\n",
      "Data columns (total 4 columns):\n",
      " #   Column              Non-Null Count  Dtype \n",
      "---  ------              --------------  ----- \n",
      " 0   attribute           85 non-null     object\n",
      " 1   information_level   85 non-null     object\n",
      " 2   type                85 non-null     object\n",
      " 3   missing_or_unknown  85 non-null     object\n",
      "dtypes: object(4)\n",
      "memory usage: 2.8+ KB\n"
     ]
    }
   ],
   "source": [
    "feat_info.info()"
   ]
  },
  {
   "cell_type": "markdown",
   "metadata": {},
   "source": [
    "**What values are used to indicate missing or unknown values?**"
   ]
  },
  {
   "cell_type": "code",
   "execution_count": 12,
   "metadata": {},
   "outputs": [
    {
     "data": {
      "text/plain": [
       "array(['[-1,0]', '[-1,0,9]', '[0]', '[-1]', '[]', '[-1,9]', '[-1,X]',\n",
       "       '[XX]', '[-1,XX]'], dtype=object)"
      ]
     },
     "execution_count": 12,
     "metadata": {},
     "output_type": "execute_result"
    }
   ],
   "source": [
    "feat_info.missing_or_unknown.unique()"
   ]
  },
  {
   "cell_type": "markdown",
   "metadata": {},
   "source": [
    "The values of `\"X\"` or `\"XX\"` found above are used to indicate missing or unknown values in the data set, as well as the digits `-1`, `0`, and `9` in some columns."
   ]
  },
  {
   "cell_type": "markdown",
   "metadata": {},
   "source": [
    "## Step 1: Preprocessing <a id='preprocessing'></a>\n",
    "\n",
    "### Step 1.1: Assess Missing Data <a id='assess-missing'></a>\n",
    "\n",
    "The feature summary file contains a summary of properties for each demographics data column. You will use this file to help you make cleaning decisions during this stage of the project. First of all, you should assess the demographics data in terms of missing data. Pay attention to the following points as you perform your analysis, and take notes on what you observe. Make sure that you fill in the **Discussion** cell with your findings and decisions at the end of each step that has one!\n",
    "\n",
    "#### Step 1.1.1: Convert Missing Value Codes to NaNs\n",
    "The fourth column of the feature attributes summary (loaded in above as `feat_info`) documents the codes from the data dictionary that indicate missing or unknown data. While the file encodes this as a list (e.g. `[-1,0]`), this will get read in as a string object. You'll need to do a little bit of parsing to make use of it to identify and clean the data. Convert data that matches a 'missing' or 'unknown' value code into a numpy NaN value. You might want to see how much data takes on a 'missing' or 'unknown' code, and how much data is naturally missing, as a point of interest.\n",
    "\n",
    "**As one more reminder, you are encouraged to add additional cells to break up your analysis into manageable chunks.**"
   ]
  },
  {
   "cell_type": "code",
   "execution_count": 13,
   "metadata": {},
   "outputs": [],
   "source": [
    "# Parse columns to replace data encoded as an missing or unknown with a NaN value\n",
    "for col in azdias.columns:\n",
    "    # extract missing or unknown label from `feat_info`\n",
    "    mu_values = feat_info[feat_info['attribute'] == col]['missing_or_unknown'].values[0]\n",
    "    # convert string to list of values\n",
    "    mu_values = mu_values.strip('[]').split(',')\n",
    "    # convert numeric values to ints, leaving strings as strings\n",
    "    mu_values = [int(x) if x.lstrip('-').isnumeric() else x for x in mu_values]\n",
    "    \n",
    "    # replace value indicating missing or unknown with a NaN value\n",
    "    azdias[col].replace(mu_values, np.nan, inplace=True)"
   ]
  },
  {
   "cell_type": "code",
   "execution_count": 14,
   "metadata": {
    "scrolled": true
   },
   "outputs": [
    {
     "name": "stdout",
     "output_type": "stream",
     "text": [
      "<class 'pandas.core.frame.DataFrame'>\n",
      "RangeIndex: 891221 entries, 0 to 891220\n",
      "Data columns (total 85 columns):\n",
      " #   Column                 Non-Null Count   Dtype  \n",
      "---  ------                 --------------   -----  \n",
      " 0   AGER_TYP               205378 non-null  float64\n",
      " 1   ALTERSKATEGORIE_GROB   888340 non-null  float64\n",
      " 2   ANREDE_KZ              891221 non-null  int64  \n",
      " 3   CJT_GESAMTTYP          886367 non-null  float64\n",
      " 4   FINANZ_MINIMALIST      891221 non-null  int64  \n",
      " 5   FINANZ_SPARER          891221 non-null  int64  \n",
      " 6   FINANZ_VORSORGER       891221 non-null  int64  \n",
      " 7   FINANZ_ANLEGER         891221 non-null  int64  \n",
      " 8   FINANZ_UNAUFFAELLIGER  891221 non-null  int64  \n",
      " 9   FINANZ_HAUSBAUER       891221 non-null  int64  \n",
      " 10  FINANZTYP              891221 non-null  int64  \n",
      " 11  GEBURTSJAHR            498903 non-null  float64\n",
      " 12  GFK_URLAUBERTYP        886367 non-null  float64\n",
      " 13  GREEN_AVANTGARDE       891221 non-null  int64  \n",
      " 14  HEALTH_TYP             780025 non-null  float64\n",
      " 15  LP_LEBENSPHASE_FEIN    793589 non-null  float64\n",
      " 16  LP_LEBENSPHASE_GROB    796649 non-null  float64\n",
      " 17  LP_FAMILIE_FEIN        813429 non-null  float64\n",
      " 18  LP_FAMILIE_GROB        813429 non-null  float64\n",
      " 19  LP_STATUS_FEIN         886367 non-null  float64\n",
      " 20  LP_STATUS_GROB         886367 non-null  float64\n",
      " 21  NATIONALITAET_KZ       782906 non-null  float64\n",
      " 22  PRAEGENDE_JUGENDJAHRE  783057 non-null  float64\n",
      " 23  RETOURTYP_BK_S         886367 non-null  float64\n",
      " 24  SEMIO_SOZ              891221 non-null  int64  \n",
      " 25  SEMIO_FAM              891221 non-null  int64  \n",
      " 26  SEMIO_REL              891221 non-null  int64  \n",
      " 27  SEMIO_MAT              891221 non-null  int64  \n",
      " 28  SEMIO_VERT             891221 non-null  int64  \n",
      " 29  SEMIO_LUST             891221 non-null  int64  \n",
      " 30  SEMIO_ERL              891221 non-null  int64  \n",
      " 31  SEMIO_KULT             891221 non-null  int64  \n",
      " 32  SEMIO_RAT              891221 non-null  int64  \n",
      " 33  SEMIO_KRIT             891221 non-null  int64  \n",
      " 34  SEMIO_DOM              891221 non-null  int64  \n",
      " 35  SEMIO_KAEM             891221 non-null  int64  \n",
      " 36  SEMIO_PFLICHT          891221 non-null  int64  \n",
      " 37  SEMIO_TRADV            891221 non-null  int64  \n",
      " 38  SHOPPER_TYP            780025 non-null  float64\n",
      " 39  SOHO_KZ                817722 non-null  float64\n",
      " 40  TITEL_KZ               2160 non-null    float64\n",
      " 41  VERS_TYP               780025 non-null  float64\n",
      " 42  ZABEOTYP               891221 non-null  int64  \n",
      " 43  ALTER_HH               580954 non-null  float64\n",
      " 44  ANZ_PERSONEN           817722 non-null  float64\n",
      " 45  ANZ_TITEL              817722 non-null  float64\n",
      " 46  HH_EINKOMMEN_SCORE     872873 non-null  float64\n",
      " 47  KK_KUNDENTYP           306609 non-null  float64\n",
      " 48  W_KEIT_KIND_HH         743233 non-null  float64\n",
      " 49  WOHNDAUER_2008         817722 non-null  float64\n",
      " 50  ANZ_HAUSHALTE_AKTIV    791610 non-null  float64\n",
      " 51  ANZ_HH_TITEL           794213 non-null  float64\n",
      " 52  GEBAEUDETYP            798073 non-null  float64\n",
      " 53  KONSUMNAEHE            817252 non-null  float64\n",
      " 54  MIN_GEBAEUDEJAHR       798073 non-null  float64\n",
      " 55  OST_WEST_KZ            798073 non-null  object \n",
      " 56  WOHNLAGE               798073 non-null  float64\n",
      " 57  CAMEO_DEUG_2015        791869 non-null  object \n",
      " 58  CAMEO_DEU_2015         791869 non-null  object \n",
      " 59  CAMEO_INTL_2015        791869 non-null  object \n",
      " 60  KBA05_ANTG1            757897 non-null  float64\n",
      " 61  KBA05_ANTG2            757897 non-null  float64\n",
      " 62  KBA05_ANTG3            757897 non-null  float64\n",
      " 63  KBA05_ANTG4            757897 non-null  float64\n",
      " 64  KBA05_BAUMAX           414697 non-null  float64\n",
      " 65  KBA05_GBZ              757897 non-null  float64\n",
      " 66  BALLRAUM               797481 non-null  float64\n",
      " 67  EWDICHTE               797481 non-null  float64\n",
      " 68  INNENSTADT             797481 non-null  float64\n",
      " 69  GEBAEUDETYP_RASTER     798066 non-null  float64\n",
      " 70  KKK                    733157 non-null  float64\n",
      " 71  MOBI_REGIO             757897 non-null  float64\n",
      " 72  ONLINE_AFFINITAET      886367 non-null  float64\n",
      " 73  REGIOTYP               733157 non-null  float64\n",
      " 74  KBA13_ANZAHL_PKW       785421 non-null  float64\n",
      " 75  PLZ8_ANTG1             774706 non-null  float64\n",
      " 76  PLZ8_ANTG2             774706 non-null  float64\n",
      " 77  PLZ8_ANTG3             774706 non-null  float64\n",
      " 78  PLZ8_ANTG4             774706 non-null  float64\n",
      " 79  PLZ8_BAUMAX            774706 non-null  float64\n",
      " 80  PLZ8_HHZ               774706 non-null  float64\n",
      " 81  PLZ8_GBZ               774706 non-null  float64\n",
      " 82  ARBEIT                 793846 non-null  float64\n",
      " 83  ORTSGR_KLS9            793947 non-null  float64\n",
      " 84  RELAT_AB               793846 non-null  float64\n",
      "dtypes: float64(57), int64(24), object(4)\n",
      "memory usage: 578.0+ MB\n"
     ]
    }
   ],
   "source": [
    "# Review dataframe info to see if there are more null values than before\n",
    "azdias.info()"
   ]
  },
  {
   "cell_type": "markdown",
   "metadata": {},
   "source": [
    "#### Step 1.1.2: Assess Missing Data in Each Column\n",
    "\n",
    "How much missing data is present in each column? There are a few columns that are outliers in terms of the proportion of values that are missing. You will want to use matplotlib's [`hist()`](https://matplotlib.org/api/_as_gen/matplotlib.pyplot.hist.html) function to visualize the distribution of missing value counts to find these columns. Identify and document these columns. While some of these columns might have justifications for keeping or re-encoding the data, for this project you should just remove them from the dataframe. (Feel free to make remarks about these outlier columns in the discussion, however!)\n",
    "\n",
    "For the remaining features, are there any patterns in which columns have, or share, missing data?"
   ]
  },
  {
   "cell_type": "code",
   "execution_count": 15,
   "metadata": {
    "scrolled": true
   },
   "outputs": [
    {
     "data": {
      "text/plain": [
       "0         24\n",
       "2881       1\n",
       "4854       6\n",
       "18348      1\n",
       "73499      4\n",
       "73969      1\n",
       "77792      2\n",
       "93148      4\n",
       "93155      1\n",
       "93740      3\n",
       "94572      1\n",
       "97008      1\n",
       "97274      1\n",
       "97375      2\n",
       "97632      1\n",
       "99352      3\n",
       "99611      1\n",
       "105800     1\n",
       "108164     1\n",
       "108315     1\n",
       "111196     3\n",
       "116515     7\n",
       "133324     6\n",
       "147988     1\n",
       "158064     2\n",
       "310267     1\n",
       "392318     1\n",
       "476524     1\n",
       "584612     1\n",
       "685843     1\n",
       "889061     1\n",
       "dtype: int64"
      ]
     },
     "execution_count": 15,
     "metadata": {},
     "output_type": "execute_result"
    }
   ],
   "source": [
    "# Perform an assessment of how much missing data there is in each column of the\n",
    "# dataset.\n",
    "\n",
    "# Find number of null values in each column\n",
    "# Sorted by number of null values in each column\n",
    "azdias.isna().sum().value_counts().sort_index()"
   ]
  },
  {
   "cell_type": "markdown",
   "metadata": {},
   "source": [
    "There are some columns with no missing data and some columns with hundreds of thousands of missing values. What is the distribution of these columns?"
   ]
  },
  {
   "cell_type": "code",
   "execution_count": 16,
   "metadata": {},
   "outputs": [],
   "source": [
    "def missing_vals_hist(df, df_name=None, axis=0, bins=20):\n",
    "    \"\"\"\n",
    "    Determines the number of null values in a column or row and\n",
    "    displays a histogram of results\n",
    "    \n",
    "    ARGS:\n",
    "        df: dataframe object\n",
    "        df_name: String name of dataframe\n",
    "        axis: 0 for column, 1 for row\n",
    "        bins: number of bins in histogram\n",
    "    \n",
    "    RETURN:\n",
    "        none \n",
    "    \"\"\"\n",
    "    # Find null values\n",
    "    null_series = df.isna().sum(axis=axis)\n",
    "    \n",
    "    # Generate histogram\n",
    "    plt.hist(null_series, bins=bins)\n",
    "    \n",
    "    # Check if name string inclueded in args\n",
    "    if df_name:\n",
    "        plt.title(f'Missing Data in {df_name} DataFrame')\n",
    "    else:\n",
    "        plt.title(f'Missing Data in DataFrame')\n",
    "    plt.xlabel('Missing values')\n",
    "    # Correctly display 'row/column' depending on axis\n",
    "    if axis == 0:\n",
    "        plt.ylabel('Number of columns')\n",
    "    elif axis == 1:\n",
    "        plt.ylabel('Number of rows');"
   ]
  },
  {
   "cell_type": "code",
   "execution_count": 17,
   "metadata": {
    "scrolled": true
   },
   "outputs": [
    {
     "data": {
      "image/png": "[encoded data removed]",
      "text/plain": [
       "<Figure size 432x288 with 1 Axes>"
      ]
     },
     "metadata": {
      "needs_background": "light"
     },
     "output_type": "display_data"
    }
   ],
   "source": [
    "# Investigate patterns in the amount of missing data in each column.\n",
    "\n",
    "# Histogram of the amount of missing values per column\n",
    "missing_vals_hist(azdias, 'Azdias')"
   ]
  },
  {
   "cell_type": "markdown",
   "metadata": {},
   "source": [
    "There are 6 columns with missing values exceeding 200,000 values."
   ]
  },
  {
   "cell_type": "code",
   "execution_count": 18,
   "metadata": {
    "scrolled": false
   },
   "outputs": [],
   "source": [
    "# Remove the outlier columns from the dataset. (You'll perform other data\n",
    "# engineering tasks such as re-encoding and imputation later.)\n",
    "\n",
    "# Find columns with more than 200,000 null values\n",
    "null_cols = azdias.isna().sum()\n",
    "null_cols = null_cols[null_cols > 200000].index"
   ]
  },
  {
   "cell_type": "code",
   "execution_count": 19,
   "metadata": {},
   "outputs": [
    {
     "data": {
      "text/plain": [
       "Index(['AGER_TYP', 'GEBURTSJAHR', 'TITEL_KZ', 'ALTER_HH', 'KK_KUNDENTYP',\n",
       "       'KBA05_BAUMAX'],\n",
       "      dtype='object')"
      ]
     },
     "execution_count": 19,
     "metadata": {},
     "output_type": "execute_result"
    }
   ],
   "source": [
    "# This is needed for the \"clean_data()\" function later in the notebook\n",
    "null_cols"
   ]
  },
  {
   "cell_type": "code",
   "execution_count": 20,
   "metadata": {},
   "outputs": [],
   "source": [
    "# Drop columns with excessive null values\n",
    "azdias.drop(null_cols, axis=1, inplace=True)"
   ]
  },
  {
   "cell_type": "code",
   "execution_count": 21,
   "metadata": {},
   "outputs": [],
   "source": [
    "# Removes entries from feat_info that describe cols removed from azdias\n",
    "# This is important for later steps, but feat_needs preserved for clean_data()\n",
    "\n",
    "# Copy feat_info\n",
    "feat_info_reduced = feat_info.copy()\n",
    "\n",
    "# Remove rows corresponding to removed columns\n",
    "for col in null_cols:\n",
    "    feat_info_reduced = feat_info_reduced[feat_info_reduced['attribute'] != col]"
   ]
  },
  {
   "cell_type": "markdown",
   "metadata": {},
   "source": [
    "**Re-vist missing value investigation**"
   ]
  },
  {
   "cell_type": "code",
   "execution_count": 22,
   "metadata": {},
   "outputs": [
    {
     "data": {
      "image/png": "[encoded data removed]",
      "text/plain": [
       "<Figure size 432x288 with 1 Axes>"
      ]
     },
     "metadata": {
      "needs_background": "light"
     },
     "output_type": "display_data"
    }
   ],
   "source": [
    "# Investigate patterns in the amount of missing data in each column.\n",
    "\n",
    "# Histogram of the amount of missing values per column\n",
    "missing_vals_hist(azdias, 'Azdias')"
   ]
  },
  {
   "cell_type": "markdown",
   "metadata": {},
   "source": [
    "#### Discussion 1.1.2: Assess Missing Data in Each Column\n",
    "\n",
    "There are now no more outlier columns in terms of missing data. There are over 30 columns with no missing data and a cluster of columns with missing values between 70,000 and 160,000 values."
   ]
  },
  {
   "cell_type": "markdown",
   "metadata": {},
   "source": [
    "#### Step 1.1.3: Assess Missing Data in Each Row\n",
    "\n",
    "Now, you'll perform a similar assessment for the rows of the dataset. How much data is missing in each row? As with the columns, you should see some groups of points that have a very different numbers of missing values. Divide the data into two subsets: one for data points that are above some threshold for missing values, and a second subset for points below that threshold.\n",
    "\n",
    "In order to know what to do with the outlier rows, we should see if the distribution of data values on columns that are not missing data (or are missing very little data) are similar or different between the two groups. Select at least five of these columns and compare the distribution of values.\n",
    "- You can use seaborn's [`countplot()`](https://seaborn.pydata.org/generated/seaborn.countplot.html) function to create a bar chart of code frequencies and matplotlib's [`subplot()`](https://matplotlib.org/api/_as_gen/matplotlib.pyplot.subplot.html) function to put bar charts for the two subplots side by side.\n",
    "- To reduce repeated code, you might want to write a function that can perform this comparison, taking as one of its arguments a column to be compared.\n",
    "\n",
    "Depending on what you observe in your comparison, this will have implications on how you approach your conclusions later in the analysis. If the distributions of non-missing features look similar between the data with many missing values and the data with few or no missing values, then we could argue that simply dropping those points from the analysis won't present a major issue. On the other hand, if the data with many missing values looks very different from the data with few or no missing values, then we should make a note on those data as special. We'll revisit these data later on. **Either way, you should continue your analysis for now using just the subset of the data with few or no missing values.**"
   ]
  },
  {
   "cell_type": "code",
   "execution_count": 23,
   "metadata": {
    "scrolled": true
   },
   "outputs": [
    {
     "data": {
      "text/plain": [
       "0     623209\n",
       "1      15738\n",
       "2      27926\n",
       "3      17629\n",
       "4      12607\n",
       "5      22515\n",
       "6      13771\n",
       "7      13714\n",
       "8      24592\n",
       "9       3042\n",
       "10      5410\n",
       "11      1127\n",
       "12       766\n",
       "13      3255\n",
       "14      2243\n",
       "15      4743\n",
       "16      2505\n",
       "17       677\n",
       "18       428\n",
       "19      1180\n",
       "20       349\n",
       "21       150\n",
       "22       129\n",
       "23       132\n",
       "24        69\n",
       "25        55\n",
       "26        59\n",
       "27        24\n",
       "28         5\n",
       "29        12\n",
       "30         6\n",
       "31         3\n",
       "32       206\n",
       "33      2985\n",
       "34     10816\n",
       "35      3911\n",
       "36        84\n",
       "37       538\n",
       "38       421\n",
       "39        77\n",
       "40       137\n",
       "41       356\n",
       "42        21\n",
       "43     27369\n",
       "44       155\n",
       "45       494\n",
       "47     45578\n",
       "48         1\n",
       "49         2\n",
       "dtype: int64"
      ]
     },
     "execution_count": 23,
     "metadata": {},
     "output_type": "execute_result"
    }
   ],
   "source": [
    "# How much data is missing in each row of the dataset?\n",
    "\n",
    "# Find number of null values in each column\n",
    "# Sorted by number of null values in each row\n",
    "azdias.isna().sum(axis=1).value_counts().sort_index()"
   ]
  },
  {
   "cell_type": "code",
   "execution_count": 24,
   "metadata": {},
   "outputs": [
    {
     "data": {
      "image/png": "[encoded data removed]",
      "text/plain": [
       "<Figure size 432x288 with 1 Axes>"
      ]
     },
     "metadata": {
      "needs_background": "light"
     },
     "output_type": "display_data"
    }
   ],
   "source": [
    "# Histogram of the amount of missing values per row\n",
    "missing_vals_hist(azdias, 'Azdias', axis=1)"
   ]
  },
  {
   "cell_type": "markdown",
   "metadata": {},
   "source": [
    "There are 2 clusters of row based on missing values: one group with fewer than 20 missing values, the other group with greater than 30 missing values. However, the histogram doesn't show exactly where the one group ends and the other begins. Here's a histogram zoomed in to show the number of rows with fewer than 3500 missing values easier:"
   ]
  },
  {
   "cell_type": "code",
   "execution_count": 25,
   "metadata": {},
   "outputs": [
    {
     "data": {
      "image/png": "[encoded data removed]",
      "text/plain": [
       "<Figure size 432x288 with 1 Axes>"
      ]
     },
     "metadata": {
      "needs_background": "light"
     },
     "output_type": "display_data"
    }
   ],
   "source": [
    "# Histogram of the amount of missing values per row\n",
    "missing_vals_hist(azdias, 'Azdias', axis=1)\n",
    "\n",
    "# Limit the y-axis to under 3500\n",
    "plt.ylim(0,3500);"
   ]
  },
  {
   "cell_type": "markdown",
   "metadata": {},
   "source": [
    "The two groups separate at around 30 missing values. This is where the data set will be divided: one with fewer than 30 missing values and one with 30 or greater missing values."
   ]
  },
  {
   "cell_type": "code",
   "execution_count": 26,
   "metadata": {},
   "outputs": [],
   "source": [
    "# Write code to divide the data into two subsets based on the number of missing\n",
    "# values in each row.\n",
    "\n",
    "under_30_nans = azdias[azdias.isna().sum(axis=1) < 30].copy()\n",
    "over_30_nans = azdias[azdias.isna().sum(axis=1) >= 30].copy()"
   ]
  },
  {
   "cell_type": "code",
   "execution_count": 27,
   "metadata": {},
   "outputs": [],
   "source": [
    "# Compare the distribution of values for at least five columns where there are\n",
    "# no or few missing values, between the two subsets.\n",
    "\n",
    "# Five columns with little to no missing data\n",
    "\n",
    "cols = ['FINANZ_MINIMALIST', 'GREEN_AVANTGARDE', 'SEMIO_FAM', 'ZABEOTYP', 'ONLINE_AFFINITAET']"
   ]
  },
  {
   "cell_type": "code",
   "execution_count": 28,
   "metadata": {
    "scrolled": false
   },
   "outputs": [
    {
     "data": {
      "image/png": "[encoded data removed]",
      "text/plain": [
       "<Figure size 1008x1728 with 10 Axes>"
      ]
     },
     "metadata": {
      "needs_background": "light"
     },
     "output_type": "display_data"
    }
   ],
   "source": [
    "fig, ax = plt.subplots(5, 2, figsize=(14,24))\n",
    "\n",
    "ax_row = 0\n",
    "\n",
    "for col in cols:\n",
    "    if ax_row == 0:\n",
    "        sns.countplot(\n",
    "            under_30_nans[col], ax=ax[ax_row, 0], color='#1f77b4'\n",
    "        ).set_title('Fewer than 30 missing values')\n",
    "        \n",
    "        sns.countplot(\n",
    "            over_30_nans[col], ax=ax[ax_row, 1], color='#1f77b4'\n",
    "        ).set_title('30 or more missing values')\n",
    "    else:\n",
    "        sns.countplot(under_30_nans[col], ax=ax[ax_row, 0], color='#1f77b4')\n",
    "        sns.countplot(over_30_nans[col], ax=ax[ax_row, 1], color='#1f77b4')\n",
    "    ax_row += 1\n",
    "\n",
    "\n",
    "\n",
    "plt.show();"
   ]
  },
  {
   "cell_type": "markdown",
   "metadata": {},
   "source": [
    "#### Discussion 1.1.3: Assess Missing Data in Each Row\n",
    "\n",
    "From the above analysis, it is clear that rows with few or no missing values have a different distribution of values on columns with little or no missing data. The rows with little missing data has a wide distrubution of values while the rows with more missing data tends to have distributions that heavily favor one attribute.\n",
    "\n",
    "This shows that the rows with more missing data could be fundamentally different than the rows with less missing data. Dropping these rows may have an impact on the final analysis."
   ]
  },
  {
   "cell_type": "markdown",
   "metadata": {},
   "source": [
    "### Step 1.2: Select and Re-Encode Features <a id='re-encode'></a>\n",
    "\n",
    "Checking for missing data isn't the only way in which you can prepare a dataset for analysis. Since the unsupervised learning techniques to be used will only work on data that is encoded numerically, you need to make a few encoding changes or additional assumptions to be able to make progress. In addition, while almost all of the values in the dataset are encoded using numbers, not all of them represent numeric values. Check the third column of the feature summary (`feat_info`) for a summary of types of measurement.\n",
    "- For numeric and interval data, these features can be kept without changes.\n",
    "- Most of the variables in the dataset are ordinal in nature. While ordinal values may technically be non-linear in spacing, make the simplifying assumption that the ordinal variables can be treated as being interval in nature (that is, kept without any changes).\n",
    "- Special handling may be necessary for the remaining two variable types: categorical, and 'mixed'.\n",
    "\n",
    "In the first two parts of this sub-step, you will perform an investigation of the categorical and mixed-type features and make a decision on each of them, whether you will keep, drop, or re-encode each. Then, in the last part, you will create a new data frame with only the selected and engineered columns.\n",
    "\n",
    "Data wrangling is often the trickiest part of the data analysis process, and there's a lot of it to be done here. But stick with it: once you're done with this step, you'll be ready to get to the machine learning parts of the project!"
   ]
  },
  {
   "cell_type": "code",
   "execution_count": 29,
   "metadata": {},
   "outputs": [
    {
     "data": {
      "text/plain": [
       "ordinal        49\n",
       "categorical    18\n",
       "mixed           6\n",
       "numeric         6\n",
       "Name: type, dtype: int64"
      ]
     },
     "execution_count": 29,
     "metadata": {},
     "output_type": "execute_result"
    }
   ],
   "source": [
    "# How many features are there of each data type?\n",
    "feat_info_reduced['type'].value_counts()"
   ]
  },
  {
   "cell_type": "markdown",
   "metadata": {},
   "source": [
    "#### Step 1.2.1: Re-Encode Categorical Features\n",
    "\n",
    "For categorical data, you would ordinarily need to encode the levels as dummy variables. Depending on the number of categories, perform one of the following:\n",
    "- For binary (two-level) categoricals that take numeric values, you can keep them without needing to do anything.\n",
    "- There is one binary variable that takes on non-numeric values. For this one, you need to re-encode the values as numbers or create a dummy variable.\n",
    "- For multi-level categoricals (three or more values), you can choose to encode the values using multiple dummy variables, or (to keep things straightforward) just drop them from the analysis. As always, document your choices in the Discussion section."
   ]
  },
  {
   "cell_type": "code",
   "execution_count": 30,
   "metadata": {
    "scrolled": true
   },
   "outputs": [
    {
     "name": "stdout",
     "output_type": "stream",
     "text": [
      "ANREDE_KZ\n",
      "[2 1]\n",
      "\n",
      "\n",
      "CJT_GESAMTTYP\n",
      "[ 5.  3.  2.  4.  1.  6. nan]\n",
      "\n",
      "\n",
      "FINANZTYP\n",
      "[1 6 5 2 4 3]\n",
      "\n",
      "\n",
      "GFK_URLAUBERTYP\n",
      "[10.  1.  5. 12.  9.  3.  8. 11.  4.  2.  7.  6. nan]\n",
      "\n",
      "\n",
      "GREEN_AVANTGARDE\n",
      "[0 1]\n",
      "\n",
      "\n",
      "LP_FAMILIE_FEIN\n",
      "[ 5.  1. nan 10.  2.  7. 11.  8.  4.  6.  9.  3.]\n",
      "\n",
      "\n",
      "LP_FAMILIE_GROB\n",
      "[ 3.  1. nan  5.  2.  4.]\n",
      "\n",
      "\n",
      "LP_STATUS_FEIN\n",
      "[ 2.  3.  9.  4.  1. 10.  5.  8.  6.  7. nan]\n",
      "\n",
      "\n",
      "LP_STATUS_GROB\n",
      "[ 1.  2.  4.  5.  3. nan]\n",
      "\n",
      "\n",
      "NATIONALITAET_KZ\n",
      "[ 1.  3.  2. nan]\n",
      "\n",
      "\n",
      "SHOPPER_TYP\n",
      "[ 3.  2.  1.  0. nan]\n",
      "\n",
      "\n",
      "SOHO_KZ\n",
      "[1. 0.]\n",
      "\n",
      "\n",
      "VERS_TYP\n",
      "[ 2.  1. nan]\n",
      "\n",
      "\n",
      "ZABEOTYP\n",
      "[5 3 4 1 6 2]\n",
      "\n",
      "\n",
      "GEBAEUDETYP\n",
      "[8. 1. 3. 2. 6. 4. 5.]\n",
      "\n",
      "\n",
      "OST_WEST_KZ\n",
      "['W' 'O']\n",
      "\n",
      "\n",
      "CAMEO_DEUG_2015\n",
      "['8' '4' '2' '6' '1' '9' '5' '7' nan '3']\n",
      "\n",
      "\n",
      "CAMEO_DEU_2015\n",
      "['8A' '4C' '2A' '6B' '8C' '4A' '2D' '1A' '1E' '9D' '5C' '8B' '7A' '5D'\n",
      " '9E' nan '9B' '1B' '3D' '4E' '4B' '3C' '5A' '7B' '9A' '6D' '6E' '2C' '7C'\n",
      " '9C' '7D' '5E' '1D' '8D' '6C' '6A' '5B' '4D' '3A' '2B' '7E' '3B' '6F'\n",
      " '5F' '1C']\n",
      "\n",
      "\n"
     ]
    }
   ],
   "source": [
    "# Assess categorical variables: which are binary, which are multi-level, and\n",
    "# which one needs to be re-encoded?\n",
    "cat_cols = feat_info_reduced[feat_info_reduced['type'] == 'categorical']['attribute']\n",
    "\n",
    "\n",
    "for col in cat_cols:\n",
    "    print(col)\n",
    "    print(under_30_nans[col].unique())\n",
    "    print('\\n')"
   ]
  },
  {
   "cell_type": "markdown",
   "metadata": {},
   "source": [
    "### Categoric Features\n",
    "\n",
    "| **Column** | **Level** | **DataType** | **Keep** |\n",
    "| :--------: | :-------: | :----------: | :------: |\n",
    "| ANREDE_KZ | Binary | Numeric | Yes |\n",
    "| GREEN_AVANTGARDE | Binary | Numeric | Yes |\n",
    "| SOHO_KZ | Binary | Numeric | Yes |\n",
    "| VERS_TYP | Binary | Numeric | Yes |\n",
    "| OST_WEST_KZ | Binary | String | Yes |\n",
    "| CJT_GESAMTTYP | Multi-Level (6) | Numeric | Yes |\n",
    "| FINANZTYP | Multi-Level (6) | Numeric | Yes |\n",
    "| GFK_URLAUBERTYP | Multi-Level (12) | Numeric | Yes |\n",
    "| LP_FAMILIE_FEIN | Multi-Level (11) | Numeric | Yes |\n",
    "| LP_FAMILIE_GROB | Multi-Level (5) | Numeric | Yes |\n",
    "| LP_STATUS_FEIN | Multi-Level (10) | Numeric | Yes |\n",
    "| LP_STATUS_GROB | Multi-Level (5) | Numeric | Yes |\n",
    "| NATIONALITAET_KZ | Multi-Level (3) | Numeric | Yes |\n",
    "| SHOPPER_TYP | Multi-Level (4) | Numeric | Yes |\n",
    "| ZABEOTYP | Multi-Level (6) | Numeric | Yes |\n",
    "| GEBAEUDETYP | Multi-Level (7) | Numeric | Yes |\n",
    "| CAMEO_DEUG_2015 | Multi-Level (9) | Numeric (As Str) | Yes |\n",
    "| CAMEO_DEU_2015 | Multi-Level (44) | String | No |"
   ]
  },
  {
   "cell_type": "markdown",
   "metadata": {},
   "source": [
    "In order to keep as much data as possible, only `CAMEO_DEU_2015` will be dropped. That column is a more detailed description on what is already encoded in `CAMEO_DEUG_2015`. These columns indicate the class the individual is in and it would be expected that they are highly correlated with each other. It shouldn't affect the analysis much if this detailed view of class is dropped because it is already contained in a broader sense in another column.\n",
    "\n",
    "If the rest of the multi-level categorical are one-hot encoded it would result in a dataframe with just over 150 columns, which is large but not unweildy yet, especially since the dimensionality will be reduced in future steps. "
   ]
  },
  {
   "cell_type": "code",
   "execution_count": 31,
   "metadata": {},
   "outputs": [],
   "source": [
    "# drop  CAMEO_DEU_2015 column\n",
    "under_30_nans.drop('CAMEO_DEU_2015', axis=1, inplace=True)"
   ]
  },
  {
   "cell_type": "code",
   "execution_count": 32,
   "metadata": {},
   "outputs": [],
   "source": [
    "# Re-encode str binary column to numeric\n",
    "under_30_nans['OST_WEST_KZ'] = under_30_nans['OST_WEST_KZ'].map({'W': 0, 'O': 1})"
   ]
  },
  {
   "cell_type": "code",
   "execution_count": 33,
   "metadata": {},
   "outputs": [],
   "source": [
    "# Gather remiaing categorical columns in lis\n",
    "ohe_cats = ['CJT_GESAMTTYP',\n",
    "            'FINANZTYP',\n",
    "            'GFK_URLAUBERTYP',\n",
    "            'LP_FAMILIE_FEIN',\n",
    "            'LP_FAMILIE_GROB',\n",
    "            'LP_STATUS_FEIN',\n",
    "            'LP_STATUS_GROB',\n",
    "            'NATIONALITAET_KZ',\n",
    "            'SHOPPER_TYP',\n",
    "            'ZABEOTYP',\n",
    "            'GEBAEUDETYP',\n",
    "            'CAMEO_DEUG_2015']"
   ]
  },
  {
   "cell_type": "code",
   "execution_count": 34,
   "metadata": {},
   "outputs": [],
   "source": [
    "# One-hot encode columns\n",
    "under_30_dummies = pd.get_dummies(under_30_nans, columns=ohe_cats)"
   ]
  },
  {
   "cell_type": "markdown",
   "metadata": {},
   "source": [
    "#### Discussion 1.2.1: Re-Encode Categorical Features\n",
    "\n",
    "To keep as much information in the dataset, very few features were removed. The only features removed were features that had many categories that were also contained in another feature with the similar but broader categories. The binary category with strings as elements rather than numbers was reincoded with 0 and 1 in place of the strings. Then the multi-level categories that were kept were one-hot encoded."
   ]
  },
  {
   "cell_type": "markdown",
   "metadata": {},
   "source": [
    "#### Step 1.2.2: Engineer Mixed-Type Features\n",
    "\n",
    "There are a handful of features that are marked as \"mixed\" in the feature summary that require special treatment in order to be included in the analysis. There are two in particular that deserve attention; the handling of the rest are up to your own choices:\n",
    "- \"PRAEGENDE_JUGENDJAHRE\" combines information on three dimensions: generation by decade, movement (mainstream vs. avantgarde), and nation (east vs. west). While there aren't enough levels to disentangle east from west, you should create two new variables to capture the other two dimensions: an interval-type variable for decade, and a binary variable for movement.\n",
    "- \"CAMEO_INTL_2015\" combines information on two axes: wealth and life stage. Break up the two-digit codes by their 'tens'-place and 'ones'-place digits into two new ordinal variables (which, for the purposes of this project, is equivalent to just treating them as their raw numeric values).\n",
    "- If you decide to keep or engineer new features around the other mixed-type features, make sure you note your steps in the Discussion section.\n",
    "\n",
    "Be sure to check `Data_Dictionary.md` for the details needed to finish these tasks."
   ]
  },
  {
   "cell_type": "code",
   "execution_count": 35,
   "metadata": {},
   "outputs": [
    {
     "name": "stdout",
     "output_type": "stream",
     "text": [
      "LP_LEBENSPHASE_FEIN\n",
      "[21.  3. nan 32.  8.  2.  5. 10.  4.  6. 23. 12. 20.  1. 11. 25. 13. 18.\n",
      " 31. 38. 35. 30.  7. 22. 14. 29. 24. 28. 37. 26. 39. 27. 36.  9. 34. 33.\n",
      " 15. 40. 16. 19. 17.]\n",
      "\n",
      "\n",
      "LP_LEBENSPHASE_GROB\n",
      "[ 6.  1. nan 10.  2.  3.  5.  7. 12. 11.  9.  4.  8.]\n",
      "\n",
      "\n",
      "PRAEGENDE_JUGENDJAHRE\n",
      "[14. 15.  8.  3. 10. 11.  5.  9.  6.  4. nan  2.  1. 12. 13.  7.]\n",
      "\n",
      "\n",
      "WOHNLAGE\n",
      "[4. 2. 7. 3. 5. 1. 8. 0.]\n",
      "\n",
      "\n",
      "CAMEO_INTL_2015\n",
      "['51' '24' '12' '43' '54' '22' '14' '13' '15' '33' '41' '34' '55' nan '25'\n",
      " '23' '31' '52' '35' '45' '44' '32']\n",
      "\n",
      "\n",
      "PLZ8_BAUMAX\n",
      "[ 1.  2. nan  4.  5.  3.]\n",
      "\n",
      "\n"
     ]
    }
   ],
   "source": [
    "# Assess mixed variables: which are binary, which are multi-level, and\n",
    "# which one needs to be re-encoded?\n",
    "\n",
    "cat_cols = feat_info_reduced[feat_info_reduced['type'] == 'mixed']['attribute']\n",
    "\n",
    "\n",
    "for col in cat_cols:\n",
    "    print(col)\n",
    "    print(under_30_nans[col].unique())\n",
    "    print('\\n')"
   ]
  },
  {
   "cell_type": "markdown",
   "metadata": {},
   "source": [
    "### Mixed Features\n",
    "\n",
    "| **Column** | **Level** | **DataType** | **Keep** |\n",
    "| :--------: | :-------: | :----------: | :------: |\n",
    "| LP_LEBENSPHASE_FEIN | Multi-Level (40) | Numeric | No |\n",
    "| LP_LEBENSPHASE_GROB | Multi-Level (12) | Numeric | Yes |\n",
    "| PRAEGENDE_JUGENDJAHRE | Multi-Level (6) | Numeric | Yes |\n",
    "| WOHNLAGE | Multi-Level (6) | Numeric | Yes |\n",
    "| CAMEO_INTL_2015 | Multi-Level (6) | Numeric (As Str) | Yes |\n",
    "| PLZ8_BAUMAX | Multi-Level (6) | Numeric | Yes |"
   ]
  },
  {
   "cell_type": "markdown",
   "metadata": {},
   "source": [
    "Just like `CAMEO_DEU_2015` and `CAMEO_DEUG_2015` above, `LP_LEBENSPHASE_FEIN` and `LP_LEBENSPHASE_GROB` are fine and broad categories describing the same thing -- \"Life Stage\". `LP_LEBENSPHASE_FEIN` can be dropped with minimal loss of information. `PRAEGENDE_JUGENDJAHRE` and `CAMEO_INTL_2015` will be broken down into separate columns, separating the mixed information into separate columns. After this, all the remaining columns need to be one-hot encoded. The final dataframe should have fewer than 200 columns after all the data engineering is complete, which is still a managable number of columns."
   ]
  },
  {
   "cell_type": "code",
   "execution_count": 36,
   "metadata": {},
   "outputs": [],
   "source": [
    "# Drop LP_LEBENSPHASE_FEIN column\n",
    "under_30_dummies.drop('LP_LEBENSPHASE_FEIN', axis=1, inplace=True)"
   ]
  },
  {
   "cell_type": "code",
   "execution_count": 37,
   "metadata": {},
   "outputs": [],
   "source": [
    "# Investigate \"PRAEGENDE_JUGENDJAHRE\" and engineer two new variables.\n",
    "decade_map = {1.0: '40s',\n",
    "              2.0: '40s',\n",
    "              3.0: '50s',\n",
    "              4.0: '50s',\n",
    "              5.0: '60s',\n",
    "              6.0: '60s',\n",
    "              7.0: '60s',\n",
    "              8.0: '70s',\n",
    "              9.0: '70s',\n",
    "              10.0: '80s',\n",
    "              11.0: '80s',\n",
    "              12.0: '80s',\n",
    "              13.0: '80s',\n",
    "              14.0: '90s',\n",
    "              15.0: '90s'\n",
    "}\n",
    "\n",
    "under_30_dummies['PRAEGENDE_JUGENDJAHRE_DECADE'] = under_30_dummies['PRAEGENDE_JUGENDJAHRE'].map(decade_map)\n",
    "\n",
    "youth_map = {1.0: 0,\n",
    "              2.0: 1,\n",
    "              3.0: 0,\n",
    "              4.0: 1,\n",
    "              5.0: 0,\n",
    "              6.0: 1,\n",
    "              7.0: 1,\n",
    "              8.0: 0,\n",
    "              9.0: 1,\n",
    "              10.0: 0,\n",
    "              11.0: 1,\n",
    "              12.0: 0,\n",
    "              13.0: 1,\n",
    "              14.0: 0,\n",
    "              15.0: 1\n",
    "}\n",
    "\n",
    "under_30_dummies['PRAEGENDE_JUGENDJAHRE_YOUTH'] = under_30_dummies['PRAEGENDE_JUGENDJAHRE'].map(youth_map)"
   ]
  },
  {
   "cell_type": "code",
   "execution_count": 38,
   "metadata": {},
   "outputs": [],
   "source": [
    "# Convert values to int - need to replace nan with 0 first\n",
    "under_30_dummies['CAMEO_INTL_2015'].fillna(0, inplace=True)\n",
    "under_30_dummies['CAMEO_INTL_2015'] = under_30_dummies['CAMEO_INTL_2015'].astype('int64')"
   ]
  },
  {
   "cell_type": "code",
   "execution_count": 39,
   "metadata": {},
   "outputs": [],
   "source": [
    "# Investigate \"CAMEO_INTL_2015\" and engineer two new variables.\n",
    "\n",
    "# Tens place indicates wealth\n",
    "under_30_dummies['CAMEO_INTL_2015_WEALTH'] = under_30_dummies['CAMEO_INTL_2015'] // 10\n",
    "# Ones place indicates life stage\n",
    "under_30_dummies['CAMEO_INTL_2015_STAGE'] = under_30_dummies['CAMEO_INTL_2015'] % 10"
   ]
  },
  {
   "cell_type": "markdown",
   "metadata": {},
   "source": [
    "#### Discussion 1.2.2: Engineer Mixed-Type Features\n",
    "\n",
    "The mixed features were handled in a very similar way to the categorical features in the previous step. Only the features with categories basically duplicated more broadly in another feature were dropped.\n",
    "\n",
    "There were two features, `PRAEGENDE_JUGENDJAHRE` and `CAMEO_INTL_2015`, that had a mix of features encoded in the one feature. These were each broken up into two different features to properly encode those features."
   ]
  },
  {
   "cell_type": "markdown",
   "metadata": {},
   "source": [
    "#### Step 1.2.3: Complete Feature Selection\n",
    "\n",
    "In order to finish this step up, you need to make sure that your data frame now only has the columns that you want to keep. To summarize, the dataframe should consist of the following:\n",
    "- All numeric, interval, and ordinal type columns from the original dataset.\n",
    "- Binary categorical features (all numerically-encoded).\n",
    "- Engineered features from other multi-level categorical features and mixed features.\n",
    "\n",
    "Make sure that for any new columns that you have engineered, that you've excluded the original columns from the final dataset. Otherwise, their values will interfere with the analysis later on the project. For example, you should not keep \"PRAEGENDE_JUGENDJAHRE\", since its values won't be useful for the algorithm: only the values derived from it in the engineered features you created should be retained. As a reminder, your data should only be from **the subset with few or no missing values**."
   ]
  },
  {
   "cell_type": "code",
   "execution_count": 40,
   "metadata": {},
   "outputs": [],
   "source": [
    "# If there are other re-engineering tasks you need to perform, make sure you\n",
    "# take care of them here. (Dealing with missing data will come in step 2.1.)\n",
    "\n",
    "# Columns to One-hot encode\n",
    "ohe_cats = ['LP_LEBENSPHASE_GROB',\n",
    "              'PRAEGENDE_JUGENDJAHRE_DECADE',\n",
    "              'WOHNLAGE',\n",
    "              'CAMEO_INTL_2015_WEALTH',\n",
    "              'CAMEO_INTL_2015_STAGE',\n",
    "              'PLZ8_BAUMAX']"
   ]
  },
  {
   "cell_type": "code",
   "execution_count": 41,
   "metadata": {},
   "outputs": [],
   "source": [
    "# One-hot encode final columns\n",
    "under_30_dummies = pd.get_dummies(under_30_dummies, columns=ohe_cats)"
   ]
  },
  {
   "cell_type": "code",
   "execution_count": 42,
   "metadata": {},
   "outputs": [],
   "source": [
    "# Do whatever you need to in order to ensure that the dataframe only contains\n",
    "# the columns that should be passed to the algorithm functions.\n",
    "\n",
    "# Drop unnecissary columns\n",
    "under_30_dummies.drop(['PRAEGENDE_JUGENDJAHRE', 'CAMEO_INTL_2015'], axis=1, inplace=True)"
   ]
  },
  {
   "cell_type": "markdown",
   "metadata": {},
   "source": [
    "### Step 1.3: Create a Cleaning Function <a id='clean-func'></a>\n",
    "\n",
    "Even though you've finished cleaning up the general population demographics data, it's important to look ahead to the future and realize that you'll need to perform the same cleaning steps on the customer demographics data. In this substep, complete the function below to execute the main feature selection, encoding, and re-engineering steps you performed above. Then, when it comes to looking at the customer data in Step 3, you can just run this function on that DataFrame to get the trimmed dataset in a single step."
   ]
  },
  {
   "cell_type": "code",
   "execution_count": 43,
   "metadata": {},
   "outputs": [],
   "source": [
    "def clean_data(df):\n",
    "    \"\"\"\n",
    "    Perform feature trimming, re-encoding, and engineering for demographics\n",
    "    data\n",
    "    \n",
    "    INPUT: Demographics DataFrame\n",
    "    OUTPUT: Trimmed and cleaned demographics DataFrame\n",
    "    \"\"\"\n",
    "    \n",
    "    ########################################################\n",
    "    # Put in code here to execute all main cleaning steps: #\n",
    "    ########################################################\n",
    "    \n",
    "    # Import feature info df so this function works independently from prior code\n",
    "    feat_df = pd.read_csv('AZDIAS_Feature_Summary.csv', delimiter=';')\n",
    "    \n",
    "    # convert missing value codes into NaNs, ...\n",
    "    for col in df.columns:\n",
    "        # extract missing or unknown label from `feat_info`\n",
    "        mu_values = feat_df[feat_df['attribute'] == col]['missing_or_unknown'].values[0]\n",
    "        # convert string to list of values\n",
    "        mu_values = mu_values.strip('[]').split(',')\n",
    "        # convert numeric values to ints, leaving strings as strings\n",
    "        mu_values = [int(x) if x.lstrip('-').isnumeric() else x for x in mu_values]\n",
    "\n",
    "        # replace value indicating missing or unknown with a NaN value\n",
    "        df[col].replace(mu_values, np.nan, inplace=True)\n",
    "    \n",
    "    #########################################\n",
    "    # remove selected columns and rows, ... #\n",
    "    #########################################\n",
    "    \n",
    "    # Columns with more than 200,000 null values in original data\n",
    "    null_cols = ['AGER_TYP', 'GEBURTSJAHR', 'TITEL_KZ', 'ALTER_HH', 'KK_KUNDENTYP', 'KBA05_BAUMAX']\n",
    "    # Drop columns with excessive null values\n",
    "    df.drop(null_cols, axis=1, inplace=True)\n",
    "    \n",
    "    # Remove rows with 30 or more null values\n",
    "    df = df[df.isna().sum(axis=1) < 30].copy()\n",
    "    \n",
    "    df.drop('CAMEO_DEU_2015', axis=1, inplace=True)\n",
    "    \n",
    "    ##################################################\n",
    "    # select, re-encode, and engineer column values. #\n",
    "    ##################################################\n",
    "    \n",
    "    # Re-encode str binary column to numeric\n",
    "    df['OST_WEST_KZ'] = df['OST_WEST_KZ'].map({'W': 0, 'O': 1})\n",
    "    \n",
    "    # Categorical columns to one-hot enco\n",
    "    ohe_cats = ['CJT_GESAMTTYP',\n",
    "            'FINANZTYP',\n",
    "            'GFK_URLAUBERTYP',\n",
    "            'LP_FAMILIE_FEIN',\n",
    "            'LP_FAMILIE_GROB',\n",
    "            'LP_STATUS_FEIN',\n",
    "            'LP_STATUS_GROB',\n",
    "            'NATIONALITAET_KZ',\n",
    "            'SHOPPER_TYP',\n",
    "            'ZABEOTYP',\n",
    "            'GEBAEUDETYP',\n",
    "            'CAMEO_DEUG_2015']\n",
    "    \n",
    "    # One-hot encode columns\n",
    "    df = pd.get_dummies(df, columns=ohe_cats)\n",
    "    \n",
    "    # Drop LP_LEBENSPHASE_FEIN column\n",
    "    df.drop('LP_LEBENSPHASE_FEIN', axis=1, inplace=True)\n",
    "    \n",
    "    # Separate \"PRAEGENDE_JUGENDJAHRE\" into two new variables.\n",
    "    decade_map = {1.0: '40s',\n",
    "                  2.0: '40s',\n",
    "                  3.0: '50s',\n",
    "                  4.0: '50s',\n",
    "                  5.0: '60s',\n",
    "                  6.0: '60s',\n",
    "                  7.0: '60s',\n",
    "                  8.0: '70s',\n",
    "                  9.0: '70s',\n",
    "                  10.0: '80s',\n",
    "                  11.0: '80s',\n",
    "                  12.0: '80s',\n",
    "                  13.0: '80s',\n",
    "                  14.0: '90s',\n",
    "                  15.0: '90s'\n",
    "    }\n",
    "\n",
    "    youth_map = {1.0: 0,\n",
    "                 2.0: 1,\n",
    "                 3.0: 0,\n",
    "                 4.0: 1,\n",
    "                 5.0: 0,\n",
    "                 6.0: 1,\n",
    "                 7.0: 1,\n",
    "                 8.0: 0,\n",
    "                 9.0: 1,\n",
    "                 10.0: 0,\n",
    "                 11.0: 1,\n",
    "                 12.0: 0,\n",
    "                 13.0: 1,\n",
    "                 14.0: 0,\n",
    "                 15.0: 1\n",
    "    }\n",
    "    \n",
    "    df['PRAEGENDE_JUGENDJAHRE_DECADE'] = df['PRAEGENDE_JUGENDJAHRE'].map(decade_map)\n",
    "    df['PRAEGENDE_JUGENDJAHRE_YOUTH'] = df['PRAEGENDE_JUGENDJAHRE'].map(youth_map)\n",
    "    \n",
    "    # Separate \"CAMEO_INTL_2015\" into two new variables.\n",
    "    # Convert values to int - need to replace nan with 0 first\n",
    "    df['CAMEO_INTL_2015'].fillna(0, inplace=True)\n",
    "    df['CAMEO_INTL_2015'] = df['CAMEO_INTL_2015'].astype('int64')\n",
    "    \n",
    "    # Tens place indicates wealth\n",
    "    df['CAMEO_INTL_2015_WEALTH'] = df['CAMEO_INTL_2015'] // 10\n",
    "    # Ones place indicates life stage\n",
    "    df['CAMEO_INTL_2015_STAGE'] = df['CAMEO_INTL_2015'] % 10\n",
    "    \n",
    "    # Mixed columns to One-hot encode\n",
    "    ohe_cats = ['LP_LEBENSPHASE_GROB',\n",
    "                'PRAEGENDE_JUGENDJAHRE_DECADE',\n",
    "                'WOHNLAGE',\n",
    "                'CAMEO_INTL_2015_WEALTH',\n",
    "                'CAMEO_INTL_2015_STAGE',\n",
    "                'PLZ8_BAUMAX'\n",
    "               ]\n",
    "    \n",
    "    # One-hot encode final columns\n",
    "    df = pd.get_dummies(df, columns=ohe_cats)\n",
    "    \n",
    "    # Drop unnecissary columns\n",
    "    df.drop(\n",
    "        ['PRAEGENDE_JUGENDJAHRE', 'CAMEO_INTL_2015'],\n",
    "        axis=1, inplace=True\n",
    "    )\n",
    "\n",
    "    #################################\n",
    "    # Return the cleaned dataframe. #\n",
    "    #################################\n",
    "    \n",
    "    return df"
   ]
  },
  {
   "cell_type": "markdown",
   "metadata": {},
   "source": [
    "## Step 2: Feature Transformation <a id='feat_tran'></a>\n",
    "\n",
    "### Step 2.1: Apply Feature Scaling <a id='feat_scale'></a>\n",
    "\n",
    "Before we apply dimensionality reduction techniques to the data, we need to perform feature scaling so that the principal component vectors are not influenced by the natural differences in scale for features. Starting from this part of the project, you'll want to keep an eye on the [API reference page for sklearn](http://scikit-learn.org/stable/modules/classes.html) to help you navigate to all of the classes and functions that you'll need. In this substep, you'll need to check the following:\n",
    "\n",
    "- sklearn requires that data not have missing values in order for its estimators to work properly. So, before applying the scaler to your data, make sure that you've cleaned the DataFrame of the remaining missing values. This can be as simple as just removing all data points with missing data, or applying an [Imputer](https://scikit-learn.org/0.16/modules/generated/sklearn.preprocessing.Imputer.html) to replace all missing values. You might also try a more complicated procedure where you temporarily remove missing values in order to compute the scaling parameters before re-introducing those missing values and applying imputation. Think about how much missing data you have and what possible effects each approach might have on your analysis, and justify your decision in the discussion section below.\n",
    "- For the actual scaling function, a [StandardScaler](http://scikit-learn.org/stable/modules/generated/sklearn.preprocessing.StandardScaler.html) instance is suggested, scaling each feature to mean 0 and standard deviation 1.\n",
    "- For these classes, you can make use of the `.fit_transform()` method to both fit a procedure to the data as well as apply the transformation to the data at the same time. Don't forget to keep the fit sklearn objects handy, since you'll be applying them to the customer demographics data towards the end of the project."
   ]
  },
  {
   "cell_type": "code",
   "execution_count": 44,
   "metadata": {},
   "outputs": [
    {
     "data": {
      "image/png": "[encoded data removed]",
      "text/plain": [
       "<Figure size 432x288 with 1 Axes>"
      ]
     },
     "metadata": {
      "needs_background": "light"
     },
     "output_type": "display_data"
    }
   ],
   "source": [
    "# If you've not yet cleaned the dataset of all NaN values, then investigate and\n",
    "# do that now.\n",
    "\n",
    "# View amount of columns with missing data\n",
    "missing_vals_hist(under_30_dummies, 'Azdias')"
   ]
  },
  {
   "cell_type": "markdown",
   "metadata": {},
   "source": [
    "Most columns now have few to zero missing values. There are still some that have significant amounts of missing values, though."
   ]
  },
  {
   "cell_type": "code",
   "execution_count": 45,
   "metadata": {},
   "outputs": [],
   "source": [
    "# Uncomment and comment below cell if using sklearn 0.19 or lower\n",
    "\n",
    "# # Instatiate\n",
    "# imputer = SimpleImputer()\n",
    "\n",
    "# # Fit and transform\n",
    "# imputed = imputer.fit_transform(under_30_dummies)"
   ]
  },
  {
   "cell_type": "code",
   "execution_count": 46,
   "metadata": {},
   "outputs": [],
   "source": [
    "# Keep uncommented if using sklearn 0.20 or higher\n",
    "\n",
    "# Instatiate\n",
    "imputer = SimpleImputer()\n",
    "\n",
    "# Fit and transform\n",
    "imputed = imputer.fit_transform(under_30_dummies)"
   ]
  },
  {
   "cell_type": "code",
   "execution_count": 47,
   "metadata": {},
   "outputs": [],
   "source": [
    "azdias_imp = pd.DataFrame(imputed, columns=under_30_dummies.columns)"
   ]
  },
  {
   "cell_type": "code",
   "execution_count": 48,
   "metadata": {
    "scrolled": true
   },
   "outputs": [
    {
     "data": {
      "image/png": "[encoded data removed]",
      "text/plain": [
       "<Figure size 432x288 with 1 Axes>"
      ]
     },
     "metadata": {
      "needs_background": "light"
     },
     "output_type": "display_data"
    }
   ],
   "source": [
    "missing_vals_hist(azdias_imp, 'Imputed Azdias')"
   ]
  },
  {
   "cell_type": "code",
   "execution_count": 49,
   "metadata": {},
   "outputs": [],
   "source": [
    "# Apply feature scaling to the general population demographics data.\n",
    "\n",
    "# Instatiate\n",
    "scaler = StandardScaler()\n",
    "\n",
    "# Fit and transform\n",
    "scaled = scaler.fit(azdias_imp)\n",
    "scaled_transform = scaled.transform(azdias_imp)"
   ]
  },
  {
   "cell_type": "code",
   "execution_count": 50,
   "metadata": {},
   "outputs": [],
   "source": [
    "# Put scaled values back into a dataframe\n",
    "azdias_scaled = pd.DataFrame(scaled_transform, columns=azdias_imp.columns)"
   ]
  },
  {
   "cell_type": "markdown",
   "metadata": {},
   "source": [
    "### Discussion 2.1: Apply Feature Scaling\n",
    "\n",
    "Null values were converted to numeric values by using sklear's imputer class. The default parameter for this imputation was kept, so the method to fill the missing values was the mean of the other values. This was done to refrain from overrepresenting values by using the mode. These values filled with the mean should have the least affect on the next steps. Standard Scaling was done to scale the data so the mean is 0 and standard deviation is 1. This will keep the features with a high variance from having an outsized influence."
   ]
  },
  {
   "cell_type": "markdown",
   "metadata": {},
   "source": [
    "### Step 2.2: Perform Dimensionality Reduction <a id='dim-reduct'></a>\n",
    "\n",
    "On your scaled data, you are now ready to apply dimensionality reduction techniques.\n",
    "\n",
    "- Use sklearn's [PCA](http://scikit-learn.org/stable/modules/generated/sklearn.decomposition.PCA.html) class to apply principal component analysis on the data, thus finding the vectors of maximal variance in the data. To start, you should not set any parameters (so all components are computed) or set a number of components that is at least half the number of features (so there's enough features to see the general trend in variability).\n",
    "- Check out the ratio of variance explained by each principal component as well as the cumulative variance explained. Try plotting the cumulative or sequential values using matplotlib's [`plot()`](https://matplotlib.org/api/_as_gen/matplotlib.pyplot.plot.html) function. Based on what you find, select a value for the number of transformed features you'll retain for the clustering part of the project.\n",
    "- Once you've made a choice for the number of components to keep, make sure you re-fit a PCA instance to perform the decided-on transformation."
   ]
  },
  {
   "cell_type": "code",
   "execution_count": 51,
   "metadata": {},
   "outputs": [],
   "source": [
    "# Apply PCA to the data.\n",
    "\n",
    "# Instatiate\n",
    "pca_all = PCA(random_state=42)\n",
    "\n",
    "# Fit & Transform\n",
    "azdias_fit = pca_all.fit(azdias_scaled)\n",
    "azdias_trans = pca_all.transform(azdias_scaled)"
   ]
  },
  {
   "cell_type": "code",
   "execution_count": 52,
   "metadata": {},
   "outputs": [],
   "source": [
    "# Investigate the variance accounted for by each principal component.\n",
    "\n",
    "# Define variace plot function\n",
    "def var_plot(pca, scree=True):\n",
    "    \"\"\"\n",
    "    Function takes a data frame and pca value and generates a plot\n",
    "    to show variane accounted for by principle components.\n",
    "    \n",
    "    ARGS:\n",
    "        pca: PCA object\n",
    "        scree: True for scree plot, False for simple bar graph\n",
    "    \n",
    "    RETURN:\n",
    "        none \n",
    "    \"\"\"\n",
    "    \n",
    "    var_ratio = pca.explained_variance_ratio_\n",
    "    num_components = np.arange(len(var_ratio))\n",
    "    cum_vals = np.cumsum(var_ratio)\n",
    "\n",
    "    plt.figure(figsize=(15, 6))\n",
    "    ax = plt.subplot(111)\n",
    "\n",
    "    ax.bar(num_components, var_ratio)\n",
    "    if scree:\n",
    "        ax.plot(num_components, cum_vals)\n",
    "        \n",
    "    ax.xaxis.set_tick_params(width=0)\n",
    "    ax.yaxis.set_tick_params(width=2, length=12)\n",
    " \n",
    "    ax.set_xlabel(\"Principal Component\")\n",
    "    ax.set_ylabel(\"Variance Explained (%)\")\n",
    "    plt.title('Explained Variance Per Principal Component')"
   ]
  },
  {
   "cell_type": "code",
   "execution_count": 53,
   "metadata": {},
   "outputs": [
    {
     "data": {
      "image/png": "[encoded data removed]",
      "text/plain": [
       "<Figure size 1080x432 with 1 Axes>"
      ]
     },
     "metadata": {
      "needs_background": "light"
     },
     "output_type": "display_data"
    }
   ],
   "source": [
    "# Scree chart showing variance of PCA transformation with no paramaters\n",
    "var_plot(pca_all)"
   ]
  },
  {
   "cell_type": "markdown",
   "metadata": {},
   "source": [
    "This scree plot isn't very helpful to determine how many principal components are needed. Here is just the bar chart portion of the graph:"
   ]
  },
  {
   "cell_type": "code",
   "execution_count": 54,
   "metadata": {},
   "outputs": [
    {
     "data": {
      "image/png": "[encoded data removed]",
      "text/plain": [
       "<Figure size 1080x432 with 1 Axes>"
      ]
     },
     "metadata": {
      "needs_background": "light"
     },
     "output_type": "display_data"
    }
   ],
   "source": [
    "# Bar chart showing variance of PCA transformation with no paramaters\n",
    "var_plot(pca_all, scree=False)\n",
    "\n",
    "# Restrict the x-axis to allow a better view of the important data\n",
    "plt.xlim(-1,25.5);"
   ]
  },
  {
   "cell_type": "markdown",
   "metadata": {},
   "source": [
    "This chart is more helpful. There is a large amount of variance, comparatively, for the first 5 principal components, and possibly a siginficant amount of varance accounted for over the next 5-10 components, but it is hard to tell. Using 5, 10, or 15 principal components would be helpful to retain. Retaining any more than that is unlikely to make much of a difference."
   ]
  },
  {
   "cell_type": "code",
   "execution_count": 55,
   "metadata": {},
   "outputs": [],
   "source": [
    "# Re-apply PCA to the data while selecting for number of components to retain.\n",
    "\n",
    "# 5 Principal Components\n",
    "\n",
    "# Instatiate\n",
    "pca_5 = PCA(5, random_state=42)\n",
    "\n",
    "# Fit & Transform\n",
    "azdias_fit_5 = pca_5.fit(azdias_scaled)\n",
    "azdias_trans_5 = pca_5.transform(azdias_scaled)"
   ]
  },
  {
   "cell_type": "code",
   "execution_count": 56,
   "metadata": {},
   "outputs": [
    {
     "data": {
      "image/png": "[encoded data removed]",
      "text/plain": [
       "<Figure size 1080x432 with 1 Axes>"
      ]
     },
     "metadata": {
      "needs_background": "light"
     },
     "output_type": "display_data"
    }
   ],
   "source": [
    "# Scree chart showing variance of PCA transformation with 5 principal components\n",
    "\n",
    "var_plot(pca_5)"
   ]
  },
  {
   "cell_type": "code",
   "execution_count": 57,
   "metadata": {},
   "outputs": [
    {
     "data": {
      "text/plain": [
       "0.24521617780383587"
      ]
     },
     "execution_count": 57,
     "metadata": {},
     "output_type": "execute_result"
    }
   ],
   "source": [
    "# Total percentage of 5 principal components\n",
    "pca_5.explained_variance_ratio_.sum()"
   ]
  },
  {
   "cell_type": "markdown",
   "metadata": {},
   "source": [
    "5 principal components are responsible for nearly 25% of the model's variance."
   ]
  },
  {
   "cell_type": "code",
   "execution_count": 58,
   "metadata": {},
   "outputs": [],
   "source": [
    "# 10 Principal Components\n",
    "\n",
    "# Instatiate\n",
    "pca_10 = PCA(10, random_state=42)\n",
    "\n",
    "# Fit & Transform\n",
    "azdias_fit_10 = pca_10.fit(azdias_scaled)\n",
    "azdias_trans_10 = pca_10.transform(azdias_scaled)"
   ]
  },
  {
   "cell_type": "code",
   "execution_count": 59,
   "metadata": {},
   "outputs": [
    {
     "data": {
      "image/png": "[encoded data removed]",
      "text/plain": [
       "<Figure size 1080x432 with 1 Axes>"
      ]
     },
     "metadata": {
      "needs_background": "light"
     },
     "output_type": "display_data"
    }
   ],
   "source": [
    "# Scree chart showing variance of PCA transformation with 10 principal components\n",
    "var_plot(pca_10)"
   ]
  },
  {
   "cell_type": "code",
   "execution_count": 60,
   "metadata": {},
   "outputs": [
    {
     "data": {
      "text/plain": [
       "0.3337738405161684"
      ]
     },
     "execution_count": 60,
     "metadata": {},
     "output_type": "execute_result"
    }
   ],
   "source": [
    "# Total percentage of 10 principal components\n",
    "pca_10.explained_variance_ratio_.sum()"
   ]
  },
  {
   "cell_type": "code",
   "execution_count": 61,
   "metadata": {},
   "outputs": [],
   "source": [
    "# 15 Principal Components\n",
    "\n",
    "# Instatiate\n",
    "pca_15 = PCA(15, random_state=42)\n",
    "\n",
    "# Fit & Transform\n",
    "azdias_fit_15 = pca_15.fit(azdias_scaled)\n",
    "azdias_trans_15 = pca_15.transform(azdias_scaled)"
   ]
  },
  {
   "cell_type": "code",
   "execution_count": 62,
   "metadata": {},
   "outputs": [
    {
     "data": {
      "image/png": "[encoded data removed]",
      "text/plain": [
       "<Figure size 1080x432 with 1 Axes>"
      ]
     },
     "metadata": {
      "needs_background": "light"
     },
     "output_type": "display_data"
    }
   ],
   "source": [
    "# Scree chart showing variance of PCA transformation with 15 principal components\n",
    "var_plot(pca_15)"
   ]
  },
  {
   "cell_type": "code",
   "execution_count": 63,
   "metadata": {},
   "outputs": [
    {
     "data": {
      "text/plain": [
       "0.4004000666071043"
      ]
     },
     "execution_count": 63,
     "metadata": {},
     "output_type": "execute_result"
    }
   ],
   "source": [
    "# Total percentage of 15 principal components\n",
    "pca_15.explained_variance_ratio_.sum()"
   ]
  },
  {
   "cell_type": "markdown",
   "metadata": {},
   "source": [
    "Expanding to 10 or 15 principal components explains for about an additional 15% more."
   ]
  },
  {
   "cell_type": "markdown",
   "metadata": {},
   "source": [
    "### Discussion 2.2: Perform Dimensionality Reduction\n",
    "\n",
    " It's difficult to tell how many principal components are needed. Approaching 15, there doesn't seem to be much increase per component, but there are large increases in variance over the first 5 components. It feels like 10 principal components may be a good threshold to preserve as much information while keeping the analysis manageable."
   ]
  },
  {
   "cell_type": "markdown",
   "metadata": {},
   "source": [
    "### Step 2.3: Interpret Principal Components <a id='int-pc'></a>\n",
    "\n",
    "Now that we have our transformed principal components, it's a nice idea to check out the weight of each variable on the first few components to see if they can be interpreted in some fashion.\n",
    "\n",
    "As a reminder, each principal component is a unit vector that points in the direction of highest variance (after accounting for the variance captured by earlier principal components). The further a weight is from zero, the more the principal component is in the direction of the corresponding feature. If two features have large weights of the same sign (both positive or both negative), then increases in one tend expect to be associated with increases in the other. To contrast, features with different signs can be expected to show a negative correlation: increases in one variable should result in a decrease in the other.\n",
    "\n",
    "- To investigate the features, you should map each weight to their corresponding feature name, then sort the features according to weight. The most interesting features for each principal component, then, will be those at the beginning and end of the sorted list. Use the data dictionary document to help you understand these most prominent features, their relationships, and what a positive or negative value on the principal component might indicate.\n",
    "- You should investigate and interpret feature associations from the first three principal components in this substep. To help facilitate this, you should write a function that you can call at any time to print the sorted list of feature weights, for the *i*-th principal component. This might come in handy in the next step of the project, when you interpret the tendencies of the discovered clusters."
   ]
  },
  {
   "cell_type": "code",
   "execution_count": 64,
   "metadata": {},
   "outputs": [],
   "source": [
    "# Define a function to map principle component weights\n",
    "def map_weights(df, pca, component, num_components=10):\n",
    "    \"\"\"\n",
    "    Takes a dataframe and a pca transformation of that df\n",
    "    and returns the N most interesting features of a selected\n",
    "    principal component sorted by importance\n",
    "    \n",
    "    ARGS:\n",
    "        df: DataFrame object\n",
    "        pca: PCA object - transformation of above df\n",
    "        component: the principle component number (0-indexed)\n",
    "        num_components: number of components to return\n",
    "    \n",
    "    RETURN:\n",
    "        dataframe object of top N most interesting features\n",
    "    \"\"\"\n",
    "    \n",
    "    # load components in df\n",
    "    components = pca.components_[component]\n",
    "    component_df = pd.DataFrame(components, index=azdias_scaled.columns, columns=['weight'])\n",
    "    # add absolute value column to sort values on\n",
    "    component_df['abs_weight'] = np.abs(component_df['weight'])\n",
    "    # sort by abs_weight column\n",
    "    component_df.sort_values(by=['abs_weight'], ascending=False, inplace=True)\n",
    "    \n",
    "    # create df of most important features\n",
    "    important_df = component_df[['weight']].head(num_components)\n",
    "    \n",
    "    # return df\n",
    "    return important_df"
   ]
  },
  {
   "cell_type": "code",
   "execution_count": 65,
   "metadata": {},
   "outputs": [
    {
     "data": {
      "text/html": [
       "<div>\n",
       "<style scoped>\n",
       "    .dataframe tbody tr th:only-of-type {\n",
       "        vertical-align: middle;\n",
       "    }\n",
       "\n",
       "    .dataframe tbody tr th {\n",
       "        vertical-align: top;\n",
       "    }\n",
       "\n",
       "    .dataframe thead th {\n",
       "        text-align: right;\n",
       "    }\n",
       "</style>\n",
       "<table border=\"1\" class=\"dataframe\">\n",
       "  <thead>\n",
       "    <tr style=\"text-align: right;\">\n",
       "      <th></th>\n",
       "      <th>weight</th>\n",
       "    </tr>\n",
       "  </thead>\n",
       "  <tbody>\n",
       "    <tr>\n",
       "      <th>MOBI_REGIO</th>\n",
       "      <td>-0.195370</td>\n",
       "    </tr>\n",
       "    <tr>\n",
       "      <th>LP_STATUS_GROB_1.0</th>\n",
       "      <td>0.186800</td>\n",
       "    </tr>\n",
       "    <tr>\n",
       "      <th>KBA05_ANTG1</th>\n",
       "      <td>-0.182541</td>\n",
       "    </tr>\n",
       "    <tr>\n",
       "      <th>FINANZ_MINIMALIST</th>\n",
       "      <td>-0.179095</td>\n",
       "    </tr>\n",
       "    <tr>\n",
       "      <th>PLZ8_ANTG3</th>\n",
       "      <td>0.178832</td>\n",
       "    </tr>\n",
       "    <tr>\n",
       "      <th>PLZ8_ANTG1</th>\n",
       "      <td>-0.178755</td>\n",
       "    </tr>\n",
       "    <tr>\n",
       "      <th>HH_EINKOMMEN_SCORE</th>\n",
       "      <td>0.174634</td>\n",
       "    </tr>\n",
       "    <tr>\n",
       "      <th>KBA05_GBZ</th>\n",
       "      <td>-0.173838</td>\n",
       "    </tr>\n",
       "    <tr>\n",
       "      <th>PLZ8_ANTG4</th>\n",
       "      <td>0.173028</td>\n",
       "    </tr>\n",
       "    <tr>\n",
       "      <th>PLZ8_BAUMAX_1.0</th>\n",
       "      <td>-0.167381</td>\n",
       "    </tr>\n",
       "  </tbody>\n",
       "</table>\n",
       "</div>"
      ],
      "text/plain": [
       "                      weight\n",
       "MOBI_REGIO         -0.195370\n",
       "LP_STATUS_GROB_1.0  0.186800\n",
       "KBA05_ANTG1        -0.182541\n",
       "FINANZ_MINIMALIST  -0.179095\n",
       "PLZ8_ANTG3          0.178832\n",
       "PLZ8_ANTG1         -0.178755\n",
       "HH_EINKOMMEN_SCORE  0.174634\n",
       "KBA05_GBZ          -0.173838\n",
       "PLZ8_ANTG4          0.173028\n",
       "PLZ8_BAUMAX_1.0    -0.167381"
      ]
     },
     "execution_count": 65,
     "metadata": {},
     "output_type": "execute_result"
    }
   ],
   "source": [
    "# Map weights for the first principal component to corresponding feature names\n",
    "# and then print the linked values, sorted by weight.\n",
    "\n",
    "first_component = map_weights(azdias_scaled, pca_10, 0)\n",
    "first_component"
   ]
  },
  {
   "cell_type": "markdown",
   "metadata": {},
   "source": [
    "The most interesting features for the first principal component are:\n",
    "\n",
    "| **Negative weight** | **Positive Weight** |\n",
    "| :-----------------: | :-----------------: |\n",
    "| Movement patterns (High to Low) | Social Status (Low-Income Earners) |\n",
    "| Number of 1-2 family houses in the microcell (Low to High) | Number of 6-10 family houses in the PLZ8 region (Low to High) |\n",
    "| Low Financial interest (Low to High) | Estimated HH net income (High to Low) |\n",
    "| Number of 1-2 family houses in the PLZ8 region (Low to High) | Number of 10+ family houses in the PLZ8 region (Low to High) |\n",
    "| Number of buildings in the microcell (Low to High) |  |\n",
    "| PLZ8 region mainly 1-2 family houses |  |\n",
    "\n",
    "This first principle component holds that an individual with a high movement pattern is less likely to live in an area primaily of 1-2 family houses. As movement patterns increase, financial interest decreases.\n",
    "\n",
    "At the same time, low income earners are more likely to live in areas with high amounts of multi-family houses.\n",
    "\n",
    "This seems to show that more movement (therefore less stability of \"putting down roots\") is associated with lower income and a greater need for shared housing."
   ]
  },
  {
   "cell_type": "code",
   "execution_count": 66,
   "metadata": {},
   "outputs": [
    {
     "data": {
      "text/html": [
       "<div>\n",
       "<style scoped>\n",
       "    .dataframe tbody tr th:only-of-type {\n",
       "        vertical-align: middle;\n",
       "    }\n",
       "\n",
       "    .dataframe tbody tr th {\n",
       "        vertical-align: top;\n",
       "    }\n",
       "\n",
       "    .dataframe thead th {\n",
       "        text-align: right;\n",
       "    }\n",
       "</style>\n",
       "<table border=\"1\" class=\"dataframe\">\n",
       "  <thead>\n",
       "    <tr style=\"text-align: right;\">\n",
       "      <th></th>\n",
       "      <th>weight</th>\n",
       "    </tr>\n",
       "  </thead>\n",
       "  <tbody>\n",
       "    <tr>\n",
       "      <th>ALTERSKATEGORIE_GROB</th>\n",
       "      <td>0.225905</td>\n",
       "    </tr>\n",
       "    <tr>\n",
       "      <th>FINANZ_SPARER</th>\n",
       "      <td>-0.225345</td>\n",
       "    </tr>\n",
       "    <tr>\n",
       "      <th>FINANZ_VORSORGER</th>\n",
       "      <td>0.216792</td>\n",
       "    </tr>\n",
       "    <tr>\n",
       "      <th>FINANZ_UNAUFFAELLIGER</th>\n",
       "      <td>-0.212275</td>\n",
       "    </tr>\n",
       "    <tr>\n",
       "      <th>SEMIO_REL</th>\n",
       "      <td>-0.203825</td>\n",
       "    </tr>\n",
       "    <tr>\n",
       "      <th>FINANZ_ANLEGER</th>\n",
       "      <td>-0.201449</td>\n",
       "    </tr>\n",
       "    <tr>\n",
       "      <th>PRAEGENDE_JUGENDJAHRE_DECADE_90s</th>\n",
       "      <td>-0.200873</td>\n",
       "    </tr>\n",
       "    <tr>\n",
       "      <th>SEMIO_TRADV</th>\n",
       "      <td>-0.200824</td>\n",
       "    </tr>\n",
       "    <tr>\n",
       "      <th>SEMIO_PFLICHT</th>\n",
       "      <td>-0.198384</td>\n",
       "    </tr>\n",
       "    <tr>\n",
       "      <th>ZABEOTYP_3</th>\n",
       "      <td>0.192257</td>\n",
       "    </tr>\n",
       "  </tbody>\n",
       "</table>\n",
       "</div>"
      ],
      "text/plain": [
       "                                    weight\n",
       "ALTERSKATEGORIE_GROB              0.225905\n",
       "FINANZ_SPARER                    -0.225345\n",
       "FINANZ_VORSORGER                  0.216792\n",
       "FINANZ_UNAUFFAELLIGER            -0.212275\n",
       "SEMIO_REL                        -0.203825\n",
       "FINANZ_ANLEGER                   -0.201449\n",
       "PRAEGENDE_JUGENDJAHRE_DECADE_90s -0.200873\n",
       "SEMIO_TRADV                      -0.200824\n",
       "SEMIO_PFLICHT                    -0.198384\n",
       "ZABEOTYP_3                        0.192257"
      ]
     },
     "execution_count": 66,
     "metadata": {},
     "output_type": "execute_result"
    }
   ],
   "source": [
    "# Map weights for the second principal component to corresponding feature names\n",
    "# and then print the linked values, sorted by weight.\n",
    "\n",
    "second_component = map_weights(azdias_scaled, pca_10, 1)\n",
    "second_component"
   ]
  },
  {
   "cell_type": "markdown",
   "metadata": {},
   "source": [
    "The most interesting features for the second principal component are:\n",
    "\n",
    "| **Negative weight** | **Positive Weight** |\n",
    "| :-----------------: | :-----------------: |\n",
    "| Money-Saver (High to Low) | Estimated age based on given name (Young to Old) |\n",
    "| Inconspicuous Financially (High to Low) | \"Be Prepared\" Financial Mentality (High to Low) |\n",
    "| Religious (High to Low) | Fair supplied Energy Consumption |\n",
    "| Investor (High to Low) |  |\n",
    "| 90s Child |  |\n",
    "| Traditionally-minded (High to Low) |  |\n",
    "| Dutiful personality (High to Low) |  |\n",
    "\n",
    "The second principle component indicates a clustering that tends to indicate age and conservatism. As saving money increases, religious identity, interest in investing, traditional-mindedness, and sense of duty increases.\n",
    "\n",
    "The positive weighs indicate this individual is likely older due to their given name, less likely to have a \"be prepared\" financial mentality, and care that their energy is fairly supplied."
   ]
  },
  {
   "cell_type": "code",
   "execution_count": 67,
   "metadata": {},
   "outputs": [
    {
     "data": {
      "text/html": [
       "<div>\n",
       "<style scoped>\n",
       "    .dataframe tbody tr th:only-of-type {\n",
       "        vertical-align: middle;\n",
       "    }\n",
       "\n",
       "    .dataframe tbody tr th {\n",
       "        vertical-align: top;\n",
       "    }\n",
       "\n",
       "    .dataframe thead th {\n",
       "        text-align: right;\n",
       "    }\n",
       "</style>\n",
       "<table border=\"1\" class=\"dataframe\">\n",
       "  <thead>\n",
       "    <tr style=\"text-align: right;\">\n",
       "      <th></th>\n",
       "      <th>weight</th>\n",
       "    </tr>\n",
       "  </thead>\n",
       "  <tbody>\n",
       "    <tr>\n",
       "      <th>ANREDE_KZ</th>\n",
       "      <td>-0.337336</td>\n",
       "    </tr>\n",
       "    <tr>\n",
       "      <th>SEMIO_VERT</th>\n",
       "      <td>0.312387</td>\n",
       "    </tr>\n",
       "    <tr>\n",
       "      <th>SEMIO_KAEM</th>\n",
       "      <td>-0.306213</td>\n",
       "    </tr>\n",
       "    <tr>\n",
       "      <th>SEMIO_DOM</th>\n",
       "      <td>-0.272956</td>\n",
       "    </tr>\n",
       "    <tr>\n",
       "      <th>SEMIO_KRIT</th>\n",
       "      <td>-0.264038</td>\n",
       "    </tr>\n",
       "    <tr>\n",
       "      <th>SEMIO_FAM</th>\n",
       "      <td>0.259035</td>\n",
       "    </tr>\n",
       "    <tr>\n",
       "      <th>SEMIO_SOZ</th>\n",
       "      <td>0.253716</td>\n",
       "    </tr>\n",
       "    <tr>\n",
       "      <th>SEMIO_KULT</th>\n",
       "      <td>0.252247</td>\n",
       "    </tr>\n",
       "    <tr>\n",
       "      <th>SEMIO_ERL</th>\n",
       "      <td>-0.211068</td>\n",
       "    </tr>\n",
       "    <tr>\n",
       "      <th>FINANZ_ANLEGER</th>\n",
       "      <td>-0.146070</td>\n",
       "    </tr>\n",
       "  </tbody>\n",
       "</table>\n",
       "</div>"
      ],
      "text/plain": [
       "                  weight\n",
       "ANREDE_KZ      -0.337336\n",
       "SEMIO_VERT      0.312387\n",
       "SEMIO_KAEM     -0.306213\n",
       "SEMIO_DOM      -0.272956\n",
       "SEMIO_KRIT     -0.264038\n",
       "SEMIO_FAM       0.259035\n",
       "SEMIO_SOZ       0.253716\n",
       "SEMIO_KULT      0.252247\n",
       "SEMIO_ERL      -0.211068\n",
       "FINANZ_ANLEGER -0.146070"
      ]
     },
     "execution_count": 67,
     "metadata": {},
     "output_type": "execute_result"
    }
   ],
   "source": [
    "# Map weights for the third principal component to corresponding feature names\n",
    "# and then print the linked values, sorted by weight.\n",
    "\n",
    "third_component = map_weights(azdias_scaled, pca_10, 2)\n",
    "third_component"
   ]
  },
  {
   "cell_type": "markdown",
   "metadata": {},
   "source": [
    "The most interesting features for the third principal component are:\n",
    "\n",
    "| **Negative weight** | **Positive Weight** |\n",
    "| :-----------------: | :-----------------: |\n",
    "| Gender (Male or Female) | Dreamful (High to Low) |\n",
    "| Combative Attitude (High to Low) | Family-Minded (High to Low) |\n",
    "| Dominant-Minded (High to Low) | Socially-Minded (High to Low) |\n",
    "| Critical-Minded (High to Low) | Culturally-Minded (High to Low) |\n",
    "| Event-Oriented (High to Low) |  |\n",
    "| Investor (High to Low) |  |\n",
    "\n",
    "The third principle component shows the relationship between gender and personality type. A male is more likely to be combatitve, dominant or critical-minded, event oriented, and an investor.\n",
    "\n",
    "Females, on the other hand, tend to be dreamful, as well as family, socially, and culturally-minded."
   ]
  },
  {
   "cell_type": "markdown",
   "metadata": {},
   "source": [
    "### Discussion 2.3: Interpret Principal Components\n",
    "\n",
    "The first three principle components group the individuals by socio-economic status/housing needs, financial conservatism, and gender/personality. The first two components can help indicate *who* is a good target demographic to advertise to, and the third component can help indicate *how* to market to a demographic."
   ]
  },
  {
   "cell_type": "markdown",
   "metadata": {},
   "source": [
    "## Step 3: Clustering <a id='clustering'></a>\n",
    "\n",
    "### Step 3.1: Apply Clustering to General Population <a id='gen-pop'></a>\n",
    "\n",
    "You've assessed and cleaned the demographics data, then scaled and transformed them. Now, it's time to see how the data clusters in the principal components space. In this substep, you will apply k-means clustering to the dataset and use the average within-cluster distances from each point to their assigned cluster's centroid to decide on a number of clusters to keep.\n",
    "\n",
    "- Use sklearn's [KMeans](http://scikit-learn.org/stable/modules/generated/sklearn.cluster.KMeans.html#sklearn.cluster.KMeans) class to perform k-means clustering on the PCA-transformed data.\n",
    "- Then, compute the average difference from each point to its assigned cluster's center. **Hint**: The KMeans object's `.score()` method might be useful here, but note that in sklearn, scores tend to be defined so that larger is better. Try applying it to a small, toy dataset, or use an internet search to help your understanding.\n",
    "- Perform the above two steps for a number of different cluster counts. You can then see how the average distance decreases with an increasing number of clusters. However, each additional cluster provides a smaller net benefit. Use this fact to select a final number of clusters in which to group the data. **Warning**: because of the large size of the dataset, it can take a long time for the algorithm to resolve. The more clusters to fit, the longer the algorithm will take. You should test for cluster counts through at least 10 clusters to get the full picture, but you shouldn't need to test for a number of clusters above about 30.\n",
    "- Once you've selected a final number of clusters to use, re-fit a KMeans instance to perform the clustering operation. Make sure that you also obtain the cluster assignments for the general demographics data, since you'll be using them in the final Step 3.3."
   ]
  },
  {
   "cell_type": "code",
   "execution_count": 68,
   "metadata": {},
   "outputs": [],
   "source": [
    "# Over a number of different cluster counts...\n",
    "\n",
    "mean_dist = []\n",
    "\n",
    "for i in range(1,31):\n",
    "    # run k-means clustering on the data and...\n",
    "    \n",
    "    # Instatiate\n",
    "    kmeans_n = KMeans(n_clusters=i, random_state=42)\n",
    "    \n",
    "    # Fit & Transform\n",
    "    kmeans_trans = kmeans_n.fit_transform(azdias_trans_10)\n",
    "        \n",
    "    # compute the average within-cluster distances.\n",
    "    min_dist = []\n",
    "    \n",
    "    # Get distance to closest centroid\n",
    "    for row in kmeans_trans:\n",
    "        min_dist.append(np.min(row))\n",
    "    \n",
    "    # Add average distance to list\n",
    "    mean_dist.append(np.mean(min_dist))"
   ]
  },
  {
   "cell_type": "code",
   "execution_count": 69,
   "metadata": {
    "scrolled": false
   },
   "outputs": [
    {
     "data": {
      "image/png": "[encoded data removed]",
      "text/plain": [
       "<Figure size 720x576 with 1 Axes>"
      ]
     },
     "metadata": {
      "needs_background": "light"
     },
     "output_type": "display_data"
    }
   ],
   "source": [
    "# Investigate the change in within-cluster distance across number of clusters.\n",
    "\n",
    "plt.figure(figsize=(10,8))\n",
    "plt.plot(range(1,31), mean_dist, marker='o', linestyle='--')\n",
    "\n",
    "plt.xlabel('Number of Clusters')\n",
    "plt.title('Mean Distance to Closest Centroid')\n",
    "plt.title('Mean Distance to Closest Centroid by K-means');"
   ]
  },
  {
   "cell_type": "code",
   "execution_count": 70,
   "metadata": {},
   "outputs": [],
   "source": [
    "# Re-fit the k-means model with the selected number of clusters and obtain\n",
    "# cluster predictions for the general population demographics data.\n",
    "\n",
    "kmeans_10 = KMeans(n_clusters=10, random_state=42)\n",
    "    \n",
    "# Fit\n",
    "kmeans_10_fit = kmeans_10.fit(azdias_trans_10)\n",
    "\n",
    "# Predict\n",
    "predictions = kmeans_10_fit.predict(azdias_trans_10)"
   ]
  },
  {
   "cell_type": "markdown",
   "metadata": {},
   "source": [
    "### Discussion 3.1: Apply Clustering to General Population\n",
    "\n",
    "Using the \"elbow-method\" can help determine the best number of clusters. However, there is no clear point where the elbow is found. Between 8 cluster and 9, there is a loss of net benefit, but ther is a sizable drop between 9 and 10 clusters. After 10 clusters, the net benefit does not increase as much for each successive cluster. K-means will then be fit with 10 clusters."
   ]
  },
  {
   "cell_type": "markdown",
   "metadata": {},
   "source": [
    "### Step 3.2: Apply All Steps to the Customer Data <a id='all-steps'></a>\n",
    "\n",
    "Now that you have clusters and cluster centers for the general population, it's time to see how the customer data maps on to those clusters. Take care to not confuse this for re-fitting all of the models to the customer data. Instead, you're going to use the fits from the general population to clean, transform, and cluster the customer data. In the last step of the project, you will interpret how the general population fits apply to the customer data.\n",
    "\n",
    "- Don't forget when loading in the customers data, that it is semicolon (`;`) delimited.\n",
    "- Apply the same feature wrangling, selection, and engineering steps to the customer demographics using the `clean_data()` function you created earlier. (You can assume that the customer demographics data has similar meaning behind missing data patterns as the general demographics data.)\n",
    "- Use the sklearn objects from the general demographics data, and apply their transformations to the customers data. That is, you should not be using a `.fit()` or `.fit_transform()` method to re-fit the old objects, nor should you be creating new sklearn objects! Carry the data through the feature scaling, PCA, and clustering steps, obtaining cluster assignments for all of the data in the customer demographics data."
   ]
  },
  {
   "cell_type": "code",
   "execution_count": 71,
   "metadata": {},
   "outputs": [],
   "source": [
    "# Load in the customer demographics data.\n",
    "customer = pd.read_csv('Udacity_CUSTOMERS_Subset.csv', delimiter=';')"
   ]
  },
  {
   "cell_type": "code",
   "execution_count": 72,
   "metadata": {},
   "outputs": [],
   "source": [
    "cust_size_before = customer.shape[0]"
   ]
  },
  {
   "cell_type": "code",
   "execution_count": 73,
   "metadata": {},
   "outputs": [],
   "source": [
    "# Apply preprocessing, feature transformation, and clustering from the general\n",
    "# demographics onto the customer data, obtaining cluster predictions for the\n",
    "# customer demographics data.\n",
    "\n",
    "# Clean customer df\n",
    "customer_clean = clean_data(customer)"
   ]
  },
  {
   "cell_type": "code",
   "execution_count": 74,
   "metadata": {},
   "outputs": [],
   "source": [
    "# Find the amount of rows that were deleted in cleaning\n",
    "# This group of rows will be assumed to be another cluster\n",
    "\n",
    "cust_size_after = customer_clean.shape[0]"
   ]
  },
  {
   "cell_type": "code",
   "execution_count": 75,
   "metadata": {},
   "outputs": [
    {
     "data": {
      "text/plain": [
       "(141725, 187)"
      ]
     },
     "execution_count": 75,
     "metadata": {},
     "output_type": "execute_result"
    }
   ],
   "source": [
    "customer_clean.shape"
   ]
  },
  {
   "cell_type": "code",
   "execution_count": 76,
   "metadata": {},
   "outputs": [
    {
     "data": {
      "text/plain": [
       "(798061, 188)"
      ]
     },
     "execution_count": 76,
     "metadata": {},
     "output_type": "execute_result"
    }
   ],
   "source": [
    "azdias_scaled.shape"
   ]
  },
  {
   "cell_type": "markdown",
   "metadata": {},
   "source": [
    "There is one more column in Azdias than Customers. This will need corrected before running the transformations."
   ]
  },
  {
   "cell_type": "code",
   "execution_count": 77,
   "metadata": {},
   "outputs": [
    {
     "name": "stdout",
     "output_type": "stream",
     "text": [
      "GEBAEUDETYP_5.0\n",
      "132\n"
     ]
    }
   ],
   "source": [
    "# Ensure dataframes have the same columns\n",
    "# Find column in Azdias and not in Customers\n",
    "\n",
    "for col in azdias_scaled.columns:\n",
    "    if col not in customer_clean.columns:\n",
    "        print(col)\n",
    "        print(azdias_scaled.columns.get_loc(col))"
   ]
  },
  {
   "cell_type": "markdown",
   "metadata": {},
   "source": [
    "There is only one column in Azdias that is not in Customers. This means that there should not be any columns in Customers that do not exist in Azdias, since the number of extra columns in Azdias was equal to the difference in numbers of columns. This extra column will need added to Customers at the location it is in Azdias to ensure the transformations are able to be applied."
   ]
  },
  {
   "cell_type": "code",
   "execution_count": 78,
   "metadata": {},
   "outputs": [],
   "source": [
    "# Add GEBAEUDETYP_5.0 to customers_clean\n",
    "customer_clean.insert(132, 'GEBAEUDETYP_5.0', 0)"
   ]
  },
  {
   "cell_type": "code",
   "execution_count": 79,
   "metadata": {},
   "outputs": [],
   "source": [
    "# Apply feature transformation and clustering\n",
    "customer_trans = imputer.transform(customer_clean)\n",
    "customer_trans = scaler.transform(customer_trans)\n",
    "customer_trans = pca_10.transform(customer_trans)\n",
    "\n",
    "# Predict using K-means\n",
    "customer_preds = kmeans_10_fit.predict(customer_trans)"
   ]
  },
  {
   "cell_type": "markdown",
   "metadata": {},
   "source": [
    "### Step 3.3: Compare Customer Data to Demographics Data <a id='compare-data'></a>\n",
    "\n",
    "At this point, you have clustered data based on demographics of the general population of Germany, and seen how the customer data for a mail-order sales company maps onto those demographic clusters. In this final substep, you will compare the two cluster distributions to see where the strongest customer base for the company is.\n",
    "\n",
    "Consider the proportion of persons in each cluster for the general population, and the proportions for the customers. If we think the company's customer base to be universal, then the cluster assignment proportions should be fairly similar between the two. If there are only particular segments of the population that are interested in the company's products, then we should see a mismatch from one to the other. If there is a higher proportion of persons in a cluster for the customer data compared to the general population (e.g. 5% of persons are assigned to a cluster for the general population, but 15% of the customer data is closest to that cluster's centroid) then that suggests the people in that cluster to be a target audience for the company. On the other hand, the proportion of the data in a cluster being larger in the general population than the customer data (e.g. only 2% of customers closest to a population centroid that captures 6% of the data) suggests that group of persons to be outside of the target demographics.\n",
    "\n",
    "Take a look at the following points in this step:\n",
    "\n",
    "- Compute the proportion of data points in each cluster for the general population and the customer data. Visualizations will be useful here: both for the individual dataset proportions, but also to visualize the ratios in cluster representation between groups. Seaborn's [`countplot()`](https://seaborn.pydata.org/generated/seaborn.countplot.html) or [`barplot()`](https://seaborn.pydata.org/generated/seaborn.barplot.html) function could be handy.\n",
    "  - Recall the analysis you performed in step 1.1.3 of the project, where you separated out certain data points from the dataset if they had more than a specified threshold of missing values. If you found that this group was qualitatively different from the main bulk of the data, you should treat this as an additional data cluster in this analysis. Make sure that you account for the number of data points in this subset, for both the general population and customer datasets, when making your computations!\n",
    "- Which cluster or clusters are overrepresented in the customer dataset compared to the general population? Select at least one such cluster and infer what kind of people might be represented by that cluster. Use the principal component interpretations from step 2.3 or look at additional components to help you make this inference. Alternatively, you can use the `.inverse_transform()` method of the PCA and StandardScaler objects to transform centroids back to the original data space and interpret the retrieved values directly.\n",
    "- Perform a similar investigation for the underrepresented clusters. Which cluster or clusters are underrepresented in the customer dataset compared to the general population, and what kinds of people are typified by these clusters?"
   ]
  },
  {
   "cell_type": "code",
   "execution_count": 80,
   "metadata": {},
   "outputs": [],
   "source": [
    "# Get 11th cluster size from the general population\n",
    "# and custmer datasets\n",
    "pop_11th_cluster = over_30_nans.shape[0]\n",
    "cust_11th_cluster = cust_size_before - cust_size_after\n",
    "\n",
    "# Get total size of General and Customer datasets\n",
    "pop_total = azdias_scaled.shape[0] + pop_11th_cluster\n",
    "cust_total = cust_size_before"
   ]
  },
  {
   "cell_type": "code",
   "execution_count": 81,
   "metadata": {},
   "outputs": [],
   "source": [
    "# Compare the proportion of data in each cluster for the customer data to the\n",
    "# proportion of data in each cluster for the general population.\n",
    "\n",
    "# Get number of datapoints in each cluster in the general population\n",
    "pop_cluster_count = np.bincount(kmeans_10_fit.labels_)\n",
    "# Add 11th cluster\n",
    "pop_cluster_count = np.append(pop_cluster_count, pop_11th_cluster)\n",
    "# Get proportion of datapoints in each cluster\n",
    "pop_cluster_prop = pop_cluster_count / pop_total\n",
    "\n",
    "\n",
    "# Get number of datapoints in each cluster in the customer data\n",
    "cust_cluster_count = np.bincount(customer_preds)\n",
    "# Add 11th cluster\n",
    "cust_cluster_count = np.append(cust_cluster_count, cust_11th_cluster)\n",
    "# Get proportion of datapoints in each cluster\n",
    "cust_cluster_prop = cust_cluster_count / cust_total"
   ]
  },
  {
   "cell_type": "code",
   "execution_count": 82,
   "metadata": {},
   "outputs": [],
   "source": [
    "# Combine into dataframe\n",
    "\n",
    "# Proportions column\n",
    "props = np.append(pop_cluster_prop, cust_cluster_prop)\n",
    "\n",
    "# Grouping column\n",
    "grouping = []\n",
    "\n",
    "for i in range(22):\n",
    "    if i < 11:\n",
    "        grouping.append('population')\n",
    "    else:\n",
    "        grouping.append('customer')\n",
    "\n",
    "# Cluster column\n",
    "clust = np.append(np.arange(1,12), np.arange(1,12))\n",
    "\n",
    "cluster_df = pd.DataFrame({'proportions': props, 'group': grouping, 'cluster':clust})"
   ]
  },
  {
   "cell_type": "code",
   "execution_count": 83,
   "metadata": {},
   "outputs": [
    {
     "data": {
      "image/png": "[encoded data removed]",
      "text/plain": [
       "<Figure size 576x360 with 1 Axes>"
      ]
     },
     "metadata": {},
     "output_type": "display_data"
    }
   ],
   "source": [
    "# Create visualization of cluster proportions\n",
    "sns.set(rc={\"figure.figsize\":(8, 5)})\n",
    "sns.set(style='white')\n",
    "\n",
    "sns.barplot(data=cluster_df, x='cluster', y='proportions', hue='group')\n",
    "\n",
    "plt.ylabel('Proportion in cluster')\n",
    "plt.xlabel('Cluster')\n",
    "plt.title('Proportion of each dataset in each cluster');"
   ]
  },
  {
   "cell_type": "markdown",
   "metadata": {},
   "source": [
    "The 6th and 11th clusters are strongly overrpresented in the customer dataset. The 3rd and 5th clusters are also overrepresented by a smaller margin. Clusters 1, 2, and 7 are strongly underrepresented in the customer dataset."
   ]
  },
  {
   "cell_type": "code",
   "execution_count": 84,
   "metadata": {},
   "outputs": [
    {
     "data": {
      "text/plain": [
       "array([-4.26221578,  0.7780072 ,  1.37296215,  2.95879059, -1.99762329,\n",
       "       -0.26981379, -1.18189331, -0.86147042,  0.53631534, -0.75948081])"
      ]
     },
     "execution_count": 84,
     "metadata": {},
     "output_type": "execute_result"
    }
   ],
   "source": [
    "# What kinds of people are part of a cluster that is overrepresented in the\n",
    "# customer data compared to the general population?\n",
    "\n",
    "# Find the weights associated with each principal component for the 6th cluster\n",
    "kmeans_10.cluster_centers_[5]"
   ]
  },
  {
   "cell_type": "markdown",
   "metadata": {},
   "source": [
    "This cluster, the sixth cluster, has strong negative weights associated with the first principle component and positive weights associated with the second and third components. The first PC was positively weighted toward low income individuals living in areas with high amounts of shared housing. Since this cluster is negatively weighted, the inverse of this PC would be true, so the typical customer is higher income and lives in area mainly comprised of 1-2 family houses.\n",
    "\n",
    "The second and third PCs have a positive weight, so the typical customer is also likely older, conservative, and male."
   ]
  },
  {
   "cell_type": "code",
   "execution_count": 85,
   "metadata": {},
   "outputs": [
    {
     "data": {
      "text/plain": [
       "array([ 5.54710947e+00, -2.47885580e+00, -6.49110825e-02,  2.76698905e-01,\n",
       "       -2.80166391e-01, -2.05353015e-01,  4.25957632e-03, -1.10274476e+00,\n",
       "       -3.44139175e-01,  5.56141593e-02])"
      ]
     },
     "execution_count": 85,
     "metadata": {},
     "output_type": "execute_result"
    }
   ],
   "source": [
    "# What kinds of people are part of a cluster that is underrepresented in the\n",
    "# customer data compared to the general population?\n",
    "\n",
    "# Find the weights associated with each principal component for the 2nd cluster\n",
    "kmeans_10.cluster_centers_[1]"
   ]
  },
  {
   "cell_type": "markdown",
   "metadata": {},
   "source": [
    "The weights on this cluster (2) are the exact opposite directions and a higher magnitude than cluster 6. So an atypical customer would be one that is a younger female, not financially conservative, and lives in areas with few 1-2 family homes and a high concentration of 6+ family houses."
   ]
  },
  {
   "cell_type": "markdown",
   "metadata": {},
   "source": [
    "### Discussion 3.3: Compare Customer Data to Demographics Data\n",
    "\n",
    "From comparing the customer clusters with what was discovered with the principle component analysis, the target demographic for the company is males who live primarily in areas with 1-2 family houses."
   ]
  }
 ],
 "metadata": {
  "kernelspec": {
   "display_name": "Python 3",
   "language": "python",
   "name": "python3"
  },
  "language_info": {
   "codemirror_mode": {
    "name": "ipython",
    "version": 3
   },
   "file_extension": ".py",
   "mimetype": "text/x-python",
   "name": "python",
   "nbconvert_exporter": "python",
   "pygments_lexer": "ipython3",
   "version": "3.8.5"
  }
 },
 "nbformat": 4,
 "nbformat_minor": 2
}
